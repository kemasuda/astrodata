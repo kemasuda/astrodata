{
 "cells": [
  {
   "cell_type": "code",
   "execution_count": null,
   "metadata": {
    "id": "zHu5UBGI1lnA"
   },
   "outputs": [],
   "source": [
    "import numpy as np\n",
    "import matplotlib.pyplot as plt"
   ]
  },
  {
   "cell_type": "markdown",
   "metadata": {
    "id": "tfLsMG081lnB"
   },
   "source": [
    "# データの読み込み"
   ]
  },
  {
   "cell_type": "markdown",
   "metadata": {
    "id": "Z-pWQJQ71lnC"
   },
   "source": [
    "まずはKOI-2の光度曲線データ koi2.txt を読み込んでみよう。[教材4-1](https://utokyo-ipp.github.io/4/4-1.html)のような方法もあるが、ここでは pandas というパッケージを使う。"
   ]
  },
  {
   "cell_type": "code",
   "execution_count": null,
   "metadata": {
    "id": "mGZi7S_scZxE"
   },
   "outputs": [],
   "source": [
    "import pandas as pd"
   ]
  },
  {
   "cell_type": "markdown",
   "metadata": {
    "id": "TWgZYMa91lnC"
   },
   "source": [
    "read_csv は、カンマ（,）記号で区切られたCSV（Comma Separated Value）形式のデータを読み込む関数である。comment=\"#\"は、#から始まる行はコメントとして無視することを指示している（ファイルを直接開いて見てみよう）。さらに引数に delimiter=\"|\" などと指定すれば、カンマ以外で区切られたデータ（この例では|）も同様に読めて便利である。"
   ]
  },
  {
   "cell_type": "code",
   "execution_count": null,
   "metadata": {
    "id": "D7qN6HSLceMo"
   },
   "outputs": [],
   "source": [
    "data = pd.read_csv(\"koi2.txt\", comment=\"#\")"
   ]
  },
  {
   "cell_type": "code",
   "execution_count": null,
   "metadata": {
    "colab": {
     "base_uri": "https://localhost:8080/",
     "height": 419
    },
    "id": "bhi_mFCw1lnD",
    "outputId": "cfa7bdb7-7006-43ae-b5dc-95cebde3c206"
   },
   "outputs": [],
   "source": [
    "data"
   ]
  },
  {
   "cell_type": "markdown",
   "metadata": {
    "id": "Uaf5Eokd1lnD"
   },
   "source": [
    "最初の行はヘッダーとして扱われ、列の名前になる。辞書（[教材3-1](https://utokyo-ipp.github.io/3/3-1.html)）と同様に、列の名前をキーとしてデータを参照できる。今回のデータは、\n",
    "- time: 時間（単位は日）\n",
    "- flux: 恒星の明るさの相対値\n",
    "- flux_error: 恒星の明るさの測定誤差（今回は使わない）\n",
    "\n",
    "を含んでいる。"
   ]
  },
  {
   "cell_type": "markdown",
   "metadata": {
    "id": "KRhGOP791lnE"
   },
   "source": [
    "今回は恒星の明るさと時間の関係を知りたいので、timeとfluxを配列として取り出しておく。"
   ]
  },
  {
   "cell_type": "code",
   "execution_count": null,
   "metadata": {
    "id": "3ef-YzL51lnE"
   },
   "outputs": [],
   "source": [
    "x = np.array(data[\"time\"])\n",
    "y = np.array(data[\"flux\"])"
   ]
  },
  {
   "cell_type": "markdown",
   "metadata": {
    "id": "qiTtpndH1lnE"
   },
   "source": [
    "Matplotlibでプロットしてみよう。前回と同様に日本語が使えるようにしておこう。"
   ]
  },
  {
   "cell_type": "code",
   "execution_count": null,
   "metadata": {
    "colab": {
     "base_uri": "https://localhost:8080/"
    },
    "id": "L5iAOUuhdKS0",
    "outputId": "98dd53b1-5f96-444a-9426-340bcec9f9be",
    "scrolled": true
   },
   "outputs": [],
   "source": [
    "!pip install japanize_matplotlib\n",
    "import japanize_matplotlib"
   ]
  },
  {
   "cell_type": "code",
   "execution_count": null,
   "metadata": {
    "colab": {
     "base_uri": "https://localhost:8080/",
     "height": 447
    },
    "id": "T2CyLa8k1lnF",
    "outputId": "bf607213-e4e9-4fb4-b8b5-c2b5312e95f5"
   },
   "outputs": [],
   "source": [
    "plt.xlabel(\"時間（日）\")\n",
    "plt.ylabel(\"恒星の明るさの相対値\") # 相対値なので単位は不要\n",
    "plt.plot(x, y, \".\");"
   ]
  },
  {
   "cell_type": "markdown",
   "metadata": {
    "id": "bCLArWXA1lnF"
   },
   "source": [
    "# トランジットの確認"
   ]
  },
  {
   "cell_type": "markdown",
   "metadata": {
    "id": "Kj1s5Nqd1lnF"
   },
   "source": [
    "上のグラフを見ると明らかに明るさが変化しているが、範囲が広すぎて見づらい。一部を拡大してプロットしてみよう。pyplotの関数xlimを使うと、x方向の範囲を指定できる。"
   ]
  },
  {
   "cell_type": "code",
   "execution_count": null,
   "metadata": {
    "colab": {
     "base_uri": "https://localhost:8080/",
     "height": 447
    },
    "id": "6b7v0cxT1lnG",
    "outputId": "e9c179ae-e6e0-441a-c3bd-113252c83394"
   },
   "outputs": [],
   "source": [
    "plt.xlim(360, 370) # xの最小値, xの最大値\n",
    "plt.xlabel(\"時間（日）\")\n",
    "plt.ylabel(\"恒星の明るさの相対値\") # 相対値なので単位は不要\n",
    "plt.plot(x, y, \".\");"
   ]
  },
  {
   "cell_type": "markdown",
   "metadata": {
    "id": "d78F07fQ1lnG"
   },
   "source": [
    "ここでは4回のトランジットが見えている。xlimの範囲を調整してどこか一回分を表示してみよう。"
   ]
  },
  {
   "cell_type": "code",
   "execution_count": null,
   "metadata": {
    "id": "z-07vuPj1lnG"
   },
   "outputs": [],
   "source": []
  },
  {
   "cell_type": "code",
   "execution_count": null,
   "metadata": {
    "id": "T-vXZLZ-1lnG"
   },
   "outputs": [],
   "source": []
  },
  {
   "cell_type": "markdown",
   "metadata": {
    "id": "OQMu5xhq1lnG"
   },
   "source": [
    "# 課題"
   ]
  },
  {
   "cell_type": "markdown",
   "metadata": {
    "id": "9wNStd9u1lnH"
   },
   "source": [
    "この惑星の公転周期$P$は2.20473547日である（[Masuda 2015](https://iopscience.iop.org/article/10.1088/0004-637X/805/1/28) の値）。前回視線速度データでやったのと同様にして、$y$を縦軸、時間を$P$で割ったあまりを横軸に取ってプロットし、トランジットによる明るさの減少がこの周期で生じていることを確かめてみよう。軸のラベルも適切に記入すること。"
   ]
  },
  {
   "cell_type": "code",
   "execution_count": null,
   "metadata": {
    "id": "sanGGgO41lnH"
   },
   "outputs": [],
   "source": [
    "P = 2.20473547 # 公転周期（日）"
   ]
  },
  {
   "cell_type": "code",
   "execution_count": null,
   "metadata": {},
   "outputs": [],
   "source": []
  },
  {
   "cell_type": "code",
   "execution_count": null,
   "metadata": {},
   "outputs": [],
   "source": []
  },
  {
   "cell_type": "markdown",
   "metadata": {
    "id": "xybaQT0p1lnH"
   },
   "source": [
    "トランジットの周辺を拡大したプロットも作ってみよう。"
   ]
  },
  {
   "cell_type": "code",
   "execution_count": null,
   "metadata": {},
   "outputs": [],
   "source": []
  },
  {
   "cell_type": "code",
   "execution_count": null,
   "metadata": {},
   "outputs": [],
   "source": []
  },
  {
   "cell_type": "markdown",
   "metadata": {
    "id": "fmHkFohq1lnI"
   },
   "source": [
    "# 課題\n",
    "余裕があれば以下もやってみよう。\n",
    "1. トランジットによる減光の量（トランジットの深さと呼ぶ）は、惑星の半径と恒星の半径の比で決まっている。グラフからトランジットの深さ$\\delta$を読み取り（目分量で構わない）、惑星の半径と恒星の半径の比を見積もってみよう（スライド37ページ参照）。\n",
    "2. 太陽の半径は $R_\\mathrm{sun}=6.957 \\times 10^8\\,\\mathrm{m}$, 木星の半径は $R_\\mathrm{jup}=7.149 \\times 10^7\\,\\mathrm{m}$（修正済み）である。木星と太陽の半径の比$R_\\mathrm{jup}/R_\\mathrm{sun}$はいくらか？\n",
    "3. この恒星（KOI-2）の半径は太陽の2.0倍である。1,2の値をもとに、この惑星の半径が木星の何倍か計算してみよう。\n",
    "4. （これは上の1-3とは無関係）「明るさ vs 時間を$P$で割ったあまり」の図で、トランジット以外の部分の明るさの変化を拡大して調べてみよう。"
   ]
  },
  {
   "cell_type": "code",
   "execution_count": null,
   "metadata": {},
   "outputs": [],
   "source": []
  },
  {
   "cell_type": "code",
   "execution_count": null,
   "metadata": {},
   "outputs": [],
   "source": []
  },
  {
   "cell_type": "code",
   "execution_count": null,
   "metadata": {},
   "outputs": [],
   "source": []
  },
  {
   "cell_type": "code",
   "execution_count": null,
   "metadata": {
    "id": "n6BhaR7c2bzY"
   },
   "outputs": [],
   "source": []
  }
 ],
 "metadata": {
  "colab": {
   "provenance": []
  },
  "kernelspec": {
   "display_name": "Python 3.11",
   "language": "python",
   "name": "python3"
  },
  "language_info": {
   "codemirror_mode": {
    "name": "ipython",
    "version": 3
   },
   "file_extension": ".py",
   "mimetype": "text/x-python",
   "name": "python",
   "nbconvert_exporter": "python",
   "pygments_lexer": "ipython3",
   "version": "3.11.3"
  }
 },
 "nbformat": 4,
 "nbformat_minor": 1
}
