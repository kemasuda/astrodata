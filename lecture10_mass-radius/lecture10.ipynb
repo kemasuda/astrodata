{
 "cells": [
  {
   "cell_type": "markdown",
   "metadata": {
    "id": "_7XB4r6I5tw3"
   },
   "source": [
    "# 惑星の質量・半径のデータ\n",
    "\n",
    "\n",
    "*   元データは NASA Exoplanet Archive https://exoplanetarchive.ipac.caltech.edu から取得\n",
    "*   ただし質量または半径の測定精度が悪いものは除いた\n",
    "\n"
   ]
  },
  {
   "cell_type": "code",
   "execution_count": null,
   "metadata": {},
   "outputs": [],
   "source": [
    "import numpy as np\n",
    "import matplotlib.pyplot as plt"
   ]
  },
  {
   "cell_type": "code",
   "execution_count": null,
   "metadata": {},
   "outputs": [],
   "source": [
    "# 日本語も使えるようにしておく。\n",
    "!pip install japanize_matplotlib\n",
    "import japanize_matplotlib"
   ]
  },
  {
   "cell_type": "markdown",
   "metadata": {},
   "source": [
    "## プロットの作成一般"
   ]
  },
  {
   "cell_type": "markdown",
   "metadata": {},
   "source": [
    "プロットにはデータが必要である。例えば"
   ]
  },
  {
   "cell_type": "code",
   "execution_count": null,
   "metadata": {},
   "outputs": [],
   "source": [
    "data_x = np.array([1, 10, 100, 1000, 10000])\n",
    "data_y = np.sqrt(data_x)"
   ]
  },
  {
   "cell_type": "markdown",
   "metadata": {},
   "source": [
    "としてみよう。plt.plot(xのデータ、yのデータ)でグラフが表示される。"
   ]
  },
  {
   "cell_type": "code",
   "execution_count": null,
   "metadata": {},
   "outputs": [],
   "source": [
    "plt.xlabel(\"x\") # x軸のラベル\n",
    "plt.ylabel(\"y\") # y軸のラベル\n",
    "plt.plot(data_x, data_y, \".\");"
   ]
  },
  {
   "cell_type": "markdown",
   "metadata": {},
   "source": [
    "plt.plot()はデフォルトだと折れ線になるので、\".\"を書いて点にした。"
   ]
  },
  {
   "cell_type": "markdown",
   "metadata": {},
   "source": [
    "plt.xlim()を使うとxの範囲（xのlimitという意味）を指定できる。yの範囲はplt.ylim()で同様にできる。"
   ]
  },
  {
   "cell_type": "code",
   "execution_count": null,
   "metadata": {},
   "outputs": [],
   "source": [
    "plt.xlim(0, 200) # xの表示範囲を0から200に制限\n",
    "plt.xlabel(\"x\") \n",
    "plt.ylabel(\"y\") \n",
    "plt.plot(data_x, data_y, \".\");"
   ]
  },
  {
   "cell_type": "markdown",
   "metadata": {},
   "source": [
    "### 両対数グラフ"
   ]
  },
  {
   "cell_type": "markdown",
   "metadata": {},
   "source": [
    "上のデータは幅広いxの範囲にわたっているので、両対数グラフ（第3回講義参照）を使ってみよう。plt.xscale(\"log\")とするとx軸が、plt.yscale(\"log\")とするとy軸が対数になる。"
   ]
  },
  {
   "cell_type": "code",
   "execution_count": null,
   "metadata": {},
   "outputs": [],
   "source": [
    "plt.xlabel(\"x\") \n",
    "plt.ylabel(\"y\") \n",
    "plt.plot(data_x, data_y, \".\")\n",
    "plt.xscale(\"log\") # x軸を対数表示\n",
    "plt.yscale(\"log\") # y軸を対数表示"
   ]
  },
  {
   "cell_type": "markdown",
   "metadata": {},
   "source": [
    "plt.xscale()はどこに書いてもよい。ちなみにこの関数は$y = \\sqrt{x} = x^{1/2}$（上のデータの式参照）でべき関数なので、両対数グラフでは直線になる。実際、\n",
    "$$\n",
    "    \\log_{10} y = {1\\over 2}\\log_{10}x \n",
    "$$\n",
    "で$\\log_{10}y$は$\\log_{10}x$の1次関数である（これも第3回講義参照）。"
   ]
  },
  {
   "cell_type": "markdown",
   "metadata": {},
   "source": [
    "### マーカーなどスタイルの変更"
   ]
  },
  {
   "cell_type": "markdown",
   "metadata": {},
   "source": [
    "プロットには点以外のマーカーも使える。以下のように marker=\"マーカー名\" と指定する。例えば"
   ]
  },
  {
   "cell_type": "code",
   "execution_count": null,
   "metadata": {},
   "outputs": [],
   "source": [
    "plt.xlabel(\"x\") \n",
    "plt.ylabel(\"y\") \n",
    "plt.plot(data_x, data_y, \".\", marker=\"D\") # マーカーの指定\n",
    "plt.xscale(\"log\") \n",
    "plt.yscale(\"log\") "
   ]
  },
  {
   "cell_type": "markdown",
   "metadata": {},
   "source": [
    "https://matplotlib.org/stable/api/markers_api.html　に使えるマーカーの一覧がある。色を変えたりもできる（一覧は　https://matplotlib.org/stable/gallery/color/named_colors.html ）："
   ]
  },
  {
   "cell_type": "code",
   "execution_count": null,
   "metadata": {},
   "outputs": [],
   "source": [
    "plt.xlabel(\"x\") \n",
    "plt.ylabel(\"y\") \n",
    "plt.plot(data_x, data_y, \".\", marker=\"D\", color=\"salmon\") # マーカーと色の指定\n",
    "plt.xscale(\"log\") \n",
    "plt.yscale(\"log\")"
   ]
  },
  {
   "cell_type": "markdown",
   "metadata": {},
   "source": [
    "マーカーの透明度は alpha=数字 で指定する。1が完全に不透明・0が完全に透明である。"
   ]
  },
  {
   "cell_type": "code",
   "execution_count": null,
   "metadata": {},
   "outputs": [],
   "source": [
    "plt.xlabel(\"x\") \n",
    "plt.ylabel(\"y\") \n",
    "plt.plot(data_x, data_y, \".\", marker=\"D\", color=\"salmon\", alpha=0.5) # マーカーと色、透明度の指定\n",
    "plt.xscale(\"log\") \n",
    "plt.yscale(\"log\");"
   ]
  },
  {
   "cell_type": "markdown",
   "metadata": {},
   "source": [
    "少し薄くなった。マーカーの縁取りとかもしてみよう。"
   ]
  },
  {
   "cell_type": "code",
   "execution_count": null,
   "metadata": {},
   "outputs": [],
   "source": [
    "plt.xlabel(\"x\") \n",
    "plt.ylabel(\"y\") \n",
    "plt.plot(data_x, data_y, \".\", marker=\"D\", markerfacecolor=\"salmon\", alpha=0.6, markeredgecolor=\"k\") \n",
    "# markerfacecolorはマーカーの中身（face）の色、markeredgecolorはマーカーの縁（edge）の色の指定\n",
    "plt.xscale(\"log\") \n",
    "plt.yscale(\"log\")"
   ]
  },
  {
   "cell_type": "markdown",
   "metadata": {},
   "source": [
    "label=ラベル を書いて、plt.legend()関数を実行するとデータの説明（凡例 legend という）もつけられる。"
   ]
  },
  {
   "cell_type": "code",
   "execution_count": null,
   "metadata": {},
   "outputs": [],
   "source": [
    "plt.xlabel(\"x\") \n",
    "plt.ylabel(\"y\") \n",
    "plt.plot(data_x, data_y, \".\", marker=\"D\", markerfacecolor=\"salmon\", alpha=0.6, markeredgecolor=\"k\",\n",
    "        label=\"適当に作ったデータ\") \n",
    "# markerfacecolorはマーカーの中身（face）の色、markeredgecolorはマーカーの縁（edge）の色の指定\n",
    "plt.xscale(\"log\") \n",
    "plt.yscale(\"log\")\n",
    "plt.legend(loc=\"best\"); # loc=\"best\"は最適な位置を勝手に決めさせるオプション"
   ]
  },
  {
   "cell_type": "markdown",
   "metadata": {},
   "source": [
    "キリがないのでこのへんにしておくが何かやりたいことがあれば pyplot ~~ で検索すると大体出てくる。"
   ]
  },
  {
   "cell_type": "markdown",
   "metadata": {},
   "source": [
    "## 系外惑星の質量・半径のデータ"
   ]
  },
  {
   "cell_type": "markdown",
   "metadata": {},
   "source": [
    "データはこれまで通りpandasで読み込む。"
   ]
  },
  {
   "cell_type": "code",
   "execution_count": null,
   "metadata": {},
   "outputs": [],
   "source": [
    "import pandas as pd"
   ]
  },
  {
   "cell_type": "code",
   "execution_count": null,
   "metadata": {},
   "outputs": [],
   "source": [
    "d = pd.read_csv(\"mass_radius.txt\")"
   ]
  },
  {
   "cell_type": "code",
   "execution_count": null,
   "metadata": {},
   "outputs": [],
   "source": [
    "d"
   ]
  },
  {
   "cell_type": "markdown",
   "metadata": {},
   "source": [
    "nameは惑星名、massは惑星の質量（地球との比）、radiusは惑星の半径（地球との比）である。以下のようにm, rを取り出しておこう。"
   ]
  },
  {
   "cell_type": "code",
   "execution_count": null,
   "metadata": {},
   "outputs": [],
   "source": [
    "# 一行ずつ m = ..., r = ... とやってもいいがこのようにまとめて書くこともできる。\n",
    "m, r = np.array(d[\"mass\"]), np.array(d[\"radius\"])"
   ]
  },
  {
   "cell_type": "markdown",
   "metadata": {},
   "source": [
    "上の例に倣って、縦軸を半径r, 横軸を質量mとして、両対数グラフに点でプロットしてみよう。x軸、y軸のラベルも適切につけること。"
   ]
  },
  {
   "cell_type": "code",
   "execution_count": null,
   "metadata": {},
   "outputs": [],
   "source": []
  },
  {
   "cell_type": "code",
   "execution_count": null,
   "metadata": {},
   "outputs": [],
   "source": []
  },
  {
   "cell_type": "markdown",
   "metadata": {},
   "source": [
    "このグラフに太陽系の惑星データを加えてみよう。これらのデータは上で読み込んだmass_radius.txtには入っていないので、自分で配列を定義する必要がある。講義の補足資料表1または第10回スライド（最後から3ページ目）を参考に、自分で配列を作ってプロットに加えてみよう。**今は惑星質量・半径ともに地球との比を考えていることに注意する。**系外惑星のデータとは異なるマーカーを用い、系外惑星と太陽系の惑星それぞれに凡例をつけること。太陽系の惑星と比べてどのような範囲にあるか？"
   ]
  },
  {
   "cell_type": "code",
   "execution_count": null,
   "metadata": {},
   "outputs": [],
   "source": []
  },
  {
   "cell_type": "code",
   "execution_count": null,
   "metadata": {},
   "outputs": [],
   "source": []
  },
  {
   "cell_type": "markdown",
   "metadata": {},
   "source": [
    "次にスーパーアース・ミニネプチューンのような小さめの惑星に注目しよう。質量の範囲を（例えば）地球の0.5倍以上30倍以下、半径を例えば地球の0.8倍から4.5倍以下にしてみよう。"
   ]
  },
  {
   "cell_type": "code",
   "execution_count": null,
   "metadata": {},
   "outputs": [],
   "source": []
  },
  {
   "cell_type": "code",
   "execution_count": null,
   "metadata": {},
   "outputs": [],
   "source": []
  },
  {
   "cell_type": "markdown",
   "metadata": {},
   "source": [
    "太陽系の地球（どれか？）にもかなり近い惑星がある一方、地球と海王星または天王星（どれか？）の間にも様々な惑星がある。これらの惑星の組成を最も簡単に議論する方法は、惑星の平均密度を調べることである。このグラフ上に、\n",
    "\n",
    "* 地球と同じ平均密度（$5.5\\,\\mathrm{g/cm^3}$）\n",
    "* 水と同じ平均密度（$1\\,\\mathrm{g/cm^3}$）\n",
    "\n",
    "の線を書き加えて系外惑星や太陽系の惑星と比較してみよう（第10回スライドの最後から2ページ目も参照）。"
   ]
  },
  {
   "cell_type": "code",
   "execution_count": null,
   "metadata": {},
   "outputs": [],
   "source": [
    "x = np.logspace(-1, 2, 1000)"
   ]
  },
  {
   "cell_type": "markdown",
   "metadata": {},
   "source": [
    "などとすると、$10^{-1}=0.1$から$10^2=100$の間で対数グラフ上で等間隔に並んだ配列が作れるので使うとよい。ls=\"dashed\"などとすると破線、ls=\"dotted\"とすると点線が描ける（lsはlinestyleの略、lsの代わりに略さず書いても動く）。"
   ]
  },
  {
   "cell_type": "code",
   "execution_count": null,
   "metadata": {},
   "outputs": [],
   "source": []
  },
  {
   "cell_type": "code",
   "execution_count": null,
   "metadata": {},
   "outputs": [],
   "source": []
  }
 ],
 "metadata": {
  "colab": {
   "provenance": []
  },
  "kernelspec": {
   "display_name": "Python 3 (ipykernel)",
   "language": "python",
   "name": "python3"
  },
  "language_info": {
   "codemirror_mode": {
    "name": "ipython",
    "version": 3
   },
   "file_extension": ".py",
   "mimetype": "text/x-python",
   "name": "python",
   "nbconvert_exporter": "python",
   "pygments_lexer": "ipython3",
   "version": "3.11.3"
  }
 },
 "nbformat": 4,
 "nbformat_minor": 1
}
