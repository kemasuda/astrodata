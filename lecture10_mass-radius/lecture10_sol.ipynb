{
 "cells": [
  {
   "cell_type": "markdown",
   "metadata": {
    "id": "_7XB4r6I5tw3"
   },
   "source": [
    "# 惑星の質量・半径のデータ\n",
    "\n",
    "\n",
    "*   元データは NASA Exoplanet Archive https://exoplanetarchive.ipac.caltech.edu から取得\n",
    "*   ただし質量または半径の測定精度が悪いものは除いた\n",
    "\n"
   ]
  },
  {
   "cell_type": "code",
   "execution_count": null,
   "metadata": {
    "id": "O9rSxWQQD34N"
   },
   "outputs": [],
   "source": [
    "import numpy as np\n",
    "import matplotlib.pyplot as plt"
   ]
  },
  {
   "cell_type": "code",
   "execution_count": null,
   "metadata": {
    "colab": {
     "base_uri": "https://localhost:8080/"
    },
    "id": "3fYQw7y-D34N",
    "outputId": "7f3474ae-da0d-40d9-aedd-aa9890d741de"
   },
   "outputs": [],
   "source": [
    "# 日本語も使えるようにしておく。\n",
    "!pip install japanize_matplotlib\n",
    "import japanize_matplotlib"
   ]
  },
  {
   "cell_type": "markdown",
   "metadata": {
    "id": "6KuQRRtFD34U"
   },
   "source": [
    "## 系外惑星の質量・半径のデータ"
   ]
  },
  {
   "cell_type": "markdown",
   "metadata": {
    "id": "4G3iGf9rD34U"
   },
   "source": [
    "データはこれまで通りpandasで読み込む。"
   ]
  },
  {
   "cell_type": "code",
   "execution_count": null,
   "metadata": {
    "id": "UpmAUhU6D34U"
   },
   "outputs": [],
   "source": [
    "import pandas as pd"
   ]
  },
  {
   "cell_type": "code",
   "execution_count": null,
   "metadata": {
    "id": "G1QOfP8jD34V"
   },
   "outputs": [],
   "source": [
    "d = pd.read_csv(\"mass_radius.txt\")"
   ]
  },
  {
   "cell_type": "code",
   "execution_count": null,
   "metadata": {
    "colab": {
     "base_uri": "https://localhost:8080/",
     "height": 419
    },
    "id": "DWF6ThxXD34V",
    "outputId": "f5c2a8d8-04bc-48e5-ebc8-af7e5590db91"
   },
   "outputs": [],
   "source": [
    "d"
   ]
  },
  {
   "cell_type": "markdown",
   "metadata": {
    "id": "nbRvkdAqD34V"
   },
   "source": [
    "nameは惑星名、massは惑星の質量（地球との比）、radiusは惑星の半径（地球との比）である。以下のようにm, rを取り出しておこう。"
   ]
  },
  {
   "cell_type": "code",
   "execution_count": null,
   "metadata": {
    "id": "8tH8C_EKD34V"
   },
   "outputs": [],
   "source": [
    "# 一行ずつ m = ..., r = ... とやってもいいがこのようにまとめて書くこともできる。\n",
    "m, r = np.array(d[\"mass\"]), np.array(d[\"radius\"])"
   ]
  },
  {
   "cell_type": "markdown",
   "metadata": {
    "id": "_oRh24yND34W"
   },
   "source": [
    "上の例に倣って、縦軸を半径r, 横軸を質量mとして、両対数グラフに点でプロットしてみよう。x軸、y軸のラベルも適切につけること。"
   ]
  },
  {
   "cell_type": "code",
   "execution_count": null,
   "metadata": {
    "colab": {
     "base_uri": "https://localhost:8080/",
     "height": 451
    },
    "id": "fxMndA1YD34W",
    "outputId": "d247fda3-2f98-42b0-f641-452b6c86ddf0"
   },
   "outputs": [],
   "source": [
    "plt.xlabel(\"惑星の質量（地球との比）\")\n",
    "plt.ylabel(\"惑星の半径（地球との比）\")\n",
    "plt.xscale(\"log\")\n",
    "plt.yscale(\"log\")\n",
    "plt.plot(m, r, \".\");"
   ]
  },
  {
   "cell_type": "markdown",
   "metadata": {
    "id": "QFCnk1iLD34W"
   },
   "source": [
    "このグラフに太陽系の惑星データを加えてみよう。これらのデータは上で読み込んだmass_radius.txtには入っていないので、自分で配列を定義する必要がある。講義の補足資料表1または第10回スライド（最後から3ページ目）を参考に、自分で配列を作ってプロットに加えてみよう。**今は惑星質量・半径ともに地球との比を考えていることに注意する。**系外惑星のデータとは異なるマーカーを用い、系外惑星と太陽系の惑星それぞれに凡例をつけること。太陽系の惑星と比べてどのような範囲にあるか？"
   ]
  },
  {
   "cell_type": "code",
   "execution_count": null,
   "metadata": {
    "id": "C6ilHj3lD34W"
   },
   "outputs": [],
   "source": [
    "m_sun = [0.055, 0.82, 1, 0.11, 318, 95, 14.5, 17]\n",
    "r_sun = [0.38, 0.95, 1, 0.53, 11.2, 9.4, 4.0, 3.9]"
   ]
  },
  {
   "cell_type": "code",
   "execution_count": null,
   "metadata": {
    "colab": {
     "base_uri": "https://localhost:8080/",
     "height": 505
    },
    "id": "SO5kauPXD34X",
    "outputId": "f71d4444-ab38-4158-d69e-41352d885927"
   },
   "outputs": [],
   "source": [
    "plt.xlabel(\"惑星の質量（地球との比）\")\n",
    "plt.ylabel(\"惑星の半径（地球との比）\")\n",
    "plt.xscale(\"log\")\n",
    "plt.yscale(\"log\")\n",
    "plt.plot(m, r, \".\", label=\"系外惑星\", alpha=0.8)\n",
    "plt.plot(m_sun, r_sun, \".\", marker=\"D\", color='black', alpha=0.8, mfc=\"none\", label=\"太陽系の惑星\") # mfc=\"none\"にすると中が空白になる\n",
    "plt.legend(loc=\"best\");"
   ]
  },
  {
   "cell_type": "markdown",
   "metadata": {
    "id": "yAXpTTTwD34X"
   },
   "source": [
    "次にスーパーアース・ミニネプチューンのような小さめの惑星に注目しよう。質量の範囲を（例えば）地球の0.5倍以上30倍以下、半径を例えば地球の0.8倍から4.5倍以下にしてみよう。"
   ]
  },
  {
   "cell_type": "code",
   "execution_count": null,
   "metadata": {
    "colab": {
     "base_uri": "https://localhost:8080/",
     "height": 505
    },
    "id": "glP64W-PD34X",
    "outputId": "45dcc8ef-7b42-499f-fb52-068dd8e7295b"
   },
   "outputs": [],
   "source": [
    "plt.xlim(0.5, 30)\n",
    "plt.ylim(0.8, 5)\n",
    "plt.xlabel(\"惑星の質量（地球との比）\")\n",
    "plt.ylabel(\"惑星の半径（地球との比）\")\n",
    "plt.xscale(\"log\")\n",
    "plt.yscale(\"log\")\n",
    "plt.plot(m, r, \".\", label=\"系外惑星\", alpha=0.8)\n",
    "plt.plot(m_sun, r_sun, \".\", marker=\"D\", color='black', alpha=0.8, mfc=\"none\", label=\"太陽系の惑星\")\n",
    "plt.yticks([1,2,3,4], [1,2,3,4]) # y軸ラベルの数字の表記変更\n",
    "plt.xticks([1,10], [1,10]) # x軸ラベルの数字の表記変更\n",
    "plt.legend(loc=\"best\");"
   ]
  },
  {
   "cell_type": "markdown",
   "metadata": {
    "id": "J-_Zr5l5D34Y"
   },
   "source": [
    "太陽系の地球（どれか？）にもかなり近い惑星がある一方、地球と海王星または天王星（どれか？）の間にも様々な惑星がある。これらの惑星の組成を最も簡単に議論する方法は、惑星の平均密度を調べることである。このグラフ上に、\n",
    "\n",
    "* 地球と同じ平均密度（$5.5\\,\\mathrm{g/cm^3}$）\n",
    "* 水と同じ平均密度（$1\\,\\mathrm{g/cm^3}$）\n",
    "\n",
    "の線を書き加えて系外惑星や太陽系の惑星と比較してみよう（第10回スライドの最後から2ページ目も参照）。"
   ]
  },
  {
   "cell_type": "code",
   "execution_count": null,
   "metadata": {
    "id": "SnEq-JgwD34Y"
   },
   "outputs": [],
   "source": [
    "x = np.logspace(-1, 2, 1000)"
   ]
  },
  {
   "cell_type": "markdown",
   "metadata": {
    "id": "TlpM3wnMD34Y"
   },
   "source": [
    "などとすると、$10^{-1}=0.1$から$10^2=100$の間で対数グラフ上で等間隔に並んだ配列が作れるので使うとよい。"
   ]
  },
  {
   "cell_type": "code",
   "execution_count": null,
   "metadata": {
    "colab": {
     "base_uri": "https://localhost:8080/",
     "height": 505
    },
    "id": "fnbtfGawD34Y",
    "outputId": "758a0247-976f-43cc-8e2c-689666b95d11"
   },
   "outputs": [],
   "source": [
    "plt.xlim(0.5, 30)\n",
    "plt.ylim(0.8, 5)\n",
    "plt.xlabel(\"惑星の質量（地球との比）\")\n",
    "plt.ylabel(\"惑星の半径（地球との比）\")\n",
    "plt.xscale(\"log\")\n",
    "plt.yscale(\"log\")\n",
    "plt.plot(m, r, \".\", label=\"系外惑星\", alpha=0.8)\n",
    "plt.plot(m_sun, r_sun, \".\", marker=\"D\", color='black', alpha=0.8, mfc=\"none\", label=\"太陽系の惑星\")\n",
    "plt.plot(x, (x*5.5)**(1./3.), label='平均密度 $1\\,\\mathrm{g/cm^3}$', color='gray', ls='dotted')\n",
    "plt.plot(x, x**(1./3.), label='平均密度 $5.5\\,\\mathrm{g/cm^3}$', color='gray', ls='dashed')\n",
    "plt.yticks([1,2,3,4], [1,2,3,4]) # y軸ラベルの数字の表記変更\n",
    "plt.xticks([1,10], [1,10]) # x軸ラベルの数字の表記変更\n",
    "plt.legend(loc=\"best\");"
   ]
  },
  {
   "cell_type": "code",
   "execution_count": null,
   "metadata": {
    "id": "JTBpGGq2D34Y"
   },
   "outputs": [],
   "source": []
  }
 ],
 "metadata": {
  "colab": {
   "provenance": []
  },
  "kernelspec": {
   "display_name": "Python 3 (ipykernel)",
   "language": "python",
   "name": "python3"
  },
  "language_info": {
   "codemirror_mode": {
    "name": "ipython",
    "version": 3
   },
   "file_extension": ".py",
   "mimetype": "text/x-python",
   "name": "python",
   "nbconvert_exporter": "python",
   "pygments_lexer": "ipython3",
   "version": "3.11.3"
  }
 },
 "nbformat": 4,
 "nbformat_minor": 1
}
