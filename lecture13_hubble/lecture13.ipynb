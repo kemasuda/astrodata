{
  "cells": [
    {
      "cell_type": "markdown",
      "id": "fd7848cc",
      "metadata": {
        "id": "fd7848cc"
      },
      "source": [
        "# ハッブル-ルメートルの法則\n",
        "\n",
        "- [Calán/Tololo Supernova Survey](https://en.wikipedia.org/wiki/Calán/Tololo_Survey)の超新星データ\n",
        "\n",
        "- [Perlmutter et al. (1999)](https://iopscience.iop.org/article/10.1086/307221) から取得"
      ]
    },
    {
      "cell_type": "code",
      "execution_count": null,
      "id": "bddc1def",
      "metadata": {
        "id": "bddc1def"
      },
      "outputs": [],
      "source": [
        "import numpy as np\n",
        "import matplotlib.pyplot as plt\n",
        "import pandas as pd"
      ]
    },
    {
      "cell_type": "code",
      "execution_count": null,
      "id": "39853f56",
      "metadata": {
        "id": "39853f56"
      },
      "outputs": [],
      "source": [
        "# 日本語も使えるようにしておく。\n",
        "!pip install japanize_matplotlib\n",
        "import japanize_matplotlib"
      ]
    },
    {
      "cell_type": "markdown",
      "id": "94bbe913",
      "metadata": {
        "id": "94bbe913"
      },
      "source": [
        "## データの読み込み"
      ]
    },
    {
      "cell_type": "code",
      "execution_count": null,
      "id": "e72e298e",
      "metadata": {
        "id": "e72e298e"
      },
      "outputs": [],
      "source": [
        "data = pd.read_csv(\"supernovae.txt\")"
      ]
    },
    {
      "cell_type": "code",
      "execution_count": null,
      "id": "6195da91",
      "metadata": {
        "scrolled": true,
        "id": "6195da91"
      },
      "outputs": [],
      "source": [
        "data"
      ]
    },
    {
      "cell_type": "code",
      "execution_count": null,
      "id": "6f31ea56",
      "metadata": {
        "id": "6f31ea56"
      },
      "outputs": [],
      "source": [
        "z = np.array(data[\"z\"]) # 赤方偏移\n",
        "m = np.array(data[\"m\"]) # 最大光度のときの超新星の見かけの等級"
      ]
    },
    {
      "cell_type": "markdown",
      "id": "24c5cb19",
      "metadata": {
        "id": "24c5cb19"
      },
      "source": [
        "## 赤方偏移$z$を後退速度$v$に換算"
      ]
    },
    {
      "cell_type": "markdown",
      "id": "c6263915",
      "metadata": {
        "id": "c6263915"
      },
      "source": [
        "ここに含まれる比較的近傍の超新星については、赤方偏移$z=\\Delta\\lambda/\\lambda$（波長の伸びた割合）と後退速度$v$の間に\n",
        "$$\n",
        "    z = {v\\over c}\n",
        "$$\n",
        "の関係がある。ただし$c$は真空中の光速度で、値は$c\\approx 3\\times10^5\\,\\mathrm{km/s}$である。この関係を用いて、$z$を後退速度$v$（単位は$\\mathrm{km/s}$）に換算しよう。"
      ]
    },
    {
      "cell_type": "code",
      "source": [
        "v ="
      ],
      "metadata": {
        "id": "jC-OC1JQW50x"
      },
      "id": "jC-OC1JQW50x",
      "execution_count": null,
      "outputs": []
    },
    {
      "cell_type": "code",
      "source": [],
      "metadata": {
        "id": "_BsQn2GmW5sM"
      },
      "id": "_BsQn2GmW5sM",
      "execution_count": null,
      "outputs": []
    },
    {
      "cell_type": "markdown",
      "id": "bf0cbab0",
      "metadata": {
        "id": "bf0cbab0"
      },
      "source": [
        "## 見かけの等級$m$から距離$d$を推定"
      ]
    },
    {
      "cell_type": "markdown",
      "id": "b59e8e08",
      "metadata": {
        "id": "b59e8e08"
      },
      "source": [
        "このデータ中のIa型超新星は全て、距離$D=10\\,\\mathrm{pc}$（年周視差が$0.1$秒角になる距離）に置いたとき、等級がおおよそ$M=-19.3$になることが知られている。つまり、真の明るさがわかっている。これを既知として、見かけの等級$m$から距離$d$を推定したい。"
      ]
    },
    {
      "cell_type": "markdown",
      "id": "08991777",
      "metadata": {
        "id": "08991777"
      },
      "source": [
        "観測された超新星の見かけの明るさ（単位時間・単位面積あたりに地球に届くエネルギー）を$f$、超新星を**距離$D=10\\,\\mathrm{pc}$に置いたときの**見かけの明るさを$F$とする。このとき、見かけの明るさ$f$は距離の2乗に反比例する（逆二乗の法則）から\n",
        "$$\n",
        "f = F\\cdot \\left(D \\over d\\right)^2\n",
        "$$\n",
        "である。これを$d$について解くと、\n",
        "$$\n",
        "\\left(d \\over D\\right)^2 = {F \\over f} \\quad \\to \\quad d = D\\sqrt{F \\over f}\n",
        "$$\n",
        "となる。"
      ]
    },
    {
      "cell_type": "markdown",
      "id": "9953fd6d",
      "metadata": {
        "id": "9953fd6d"
      },
      "source": [
        "ここで、第11回で示した見かけの明るさと等級の関係を使うと、$f\\propto 10^{-0.4m}$, $F \\propto 10^{-0.4M}$  が成り立つ。よって\n",
        "$$\n",
        "    {F\\over f} = {10^{-0.4M} \\over 10^{-0.4m}} = 10^{-0.4(M-m)}\n",
        "$$\n",
        "である。これより\n",
        "$$\n",
        "    d = D\\sqrt{F\\over f} = D \\cdot \\left[10^{-0.4(M-m)}\\ \\ \\right]^{1/2} = D \\cdot 10^{-0.2(M-m)}\\ = D \\cdot 10^{0.2(m-M)} = 10\\cdot 10^{0.2(m-M)}\\ \\ \\mathrm{pc} = 10^{1+0.2(m-M)}\\ \\ \\mathrm{pc}\n",
        "$$\n",
        "となることがわかる。"
      ]
    },
    {
      "cell_type": "markdown",
      "id": "a2468316",
      "metadata": {
        "id": "a2468316"
      },
      "source": [
        "最後の式を用いて、$m$のデータと$M=-19.3$から、データ中の超新星の距離$d$を求めよう。$\\,\\mathrm{pc}$単位だと数が大きくなるので、単位は$\\,\\mathrm{Mpc}=10^6\\,\\mathrm{pc}$にしよう。"
      ]
    },
    {
      "cell_type": "code",
      "execution_count": null,
      "id": "5dd5bdfd",
      "metadata": {
        "id": "5dd5bdfd"
      },
      "outputs": [],
      "source": [
        "M = -19.3\n",
        "d ="
      ]
    },
    {
      "cell_type": "code",
      "execution_count": null,
      "id": "04071914",
      "metadata": {
        "id": "04071914"
      },
      "outputs": [],
      "source": [
        "d"
      ]
    },
    {
      "cell_type": "markdown",
      "id": "bceb2d6b",
      "metadata": {
        "id": "bceb2d6b"
      },
      "source": [
        "## 後退速度$v$と距離$d$の関係（ハッブル-ルメートルの法則）"
      ]
    },
    {
      "cell_type": "markdown",
      "id": "ebb704fe",
      "metadata": {
        "id": "ebb704fe"
      },
      "source": [
        "上で求めた$v$ ($\\mathrm{km/s}$)を縦軸、$d$($\\mathrm{Mpc}$)を横軸にしてデータを点でプロットしてみよう。軸のラベルも入れること。"
      ]
    },
    {
      "cell_type": "code",
      "source": [],
      "metadata": {
        "id": "mrNOMjPsW_3F"
      },
      "id": "mrNOMjPsW_3F",
      "execution_count": null,
      "outputs": []
    },
    {
      "cell_type": "code",
      "source": [],
      "metadata": {
        "id": "Nc7PAdYbW_0j"
      },
      "id": "Nc7PAdYbW_0j",
      "execution_count": null,
      "outputs": []
    },
    {
      "cell_type": "markdown",
      "id": "2ed2de1d",
      "metadata": {
        "id": "2ed2de1d"
      },
      "source": [
        "比例関係になっていそうなのがわかるはずである。これをさらに確認するために、傾き$H_0$（ハッブル定数）を$v/d$の平均値として推定し、データ点とともに$v=H_0d$という直線をプロットしてみよう（[lecture8-1](https://github.com/kemasuda/astrodata/blob/main/lecture8_doppler/lecture8-1.ipynb)参照）。平均はnp.mean()で計算できる。"
      ]
    },
    {
      "cell_type": "code",
      "source": [],
      "metadata": {
        "id": "3aFIE5_MXCPE"
      },
      "id": "3aFIE5_MXCPE",
      "execution_count": null,
      "outputs": []
    },
    {
      "cell_type": "code",
      "source": [],
      "metadata": {
        "id": "JTUjX9ijXCEp"
      },
      "id": "JTUjX9ijXCEp",
      "execution_count": null,
      "outputs": []
    },
    {
      "cell_type": "code",
      "source": [],
      "metadata": {
        "id": "mTDM0g5WXB_e"
      },
      "id": "mTDM0g5WXB_e",
      "execution_count": null,
      "outputs": []
    },
    {
      "cell_type": "markdown",
      "id": "c88fd53e",
      "metadata": {
        "id": "c88fd53e"
      },
      "source": [
        "## おまけ"
      ]
    },
    {
      "cell_type": "markdown",
      "id": "edb63ef6",
      "metadata": {
        "id": "edb63ef6"
      },
      "source": [
        "上で求めた$H_0$の単位は$\\mathrm{km/s/Mpc}$になっている。$1\\,\\mathrm{pc}$は年周視差が$1''=1/3600\\,\\mathrm{deg}$になる距離だから、\n",
        "$$\n",
        "1\\,\\mathrm{pc} = {1\\,\\mathrm{au} \\over (1/3600)\\,\\mathrm{deg}}\n",
        "$$\n",
        "である。$1\\,\\mathrm{au}=1.5\\times10^8\\,\\mathrm{km}$として$1\\,\\mathrm{pc}$を$\\mathrm{km}$単位に換算し、$H_0$の逆数 $1/H_0$（これは時間になる）を年の単位で求めよう。この時間はどのように解釈できるか？"
      ]
    },
    {
      "cell_type": "code",
      "source": [],
      "metadata": {
        "id": "Eu7osox2XNh_"
      },
      "id": "Eu7osox2XNh_",
      "execution_count": null,
      "outputs": []
    },
    {
      "cell_type": "code",
      "execution_count": null,
      "id": "234358f7",
      "metadata": {
        "id": "234358f7"
      },
      "outputs": [],
      "source": []
    }
  ],
  "metadata": {
    "kernelspec": {
      "display_name": "py38",
      "language": "python",
      "name": "py38"
    },
    "language_info": {
      "codemirror_mode": {
        "name": "ipython",
        "version": 3
      },
      "file_extension": ".py",
      "mimetype": "text/x-python",
      "name": "python",
      "nbconvert_exporter": "python",
      "pygments_lexer": "ipython3",
      "version": "3.8.13"
    },
    "colab": {
      "provenance": []
    }
  },
  "nbformat": 4,
  "nbformat_minor": 5
}