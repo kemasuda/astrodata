{
  "cells": [
    {
      "cell_type": "markdown",
      "id": "fd7848cc",
      "metadata": {
        "id": "fd7848cc"
      },
      "source": [
        "# ハッブル-ルメートルの法則\n",
        "\n",
        "- [Calán/Tololo Supernova Survey](https://en.wikipedia.org/wiki/Calán/Tololo_Survey)の超新星データ\n",
        "\n",
        "- [Perlmutter et al. (1999)](https://iopscience.iop.org/article/10.1086/307221) から取得"
      ]
    },
    {
      "cell_type": "code",
      "execution_count": 1,
      "id": "bddc1def",
      "metadata": {
        "id": "bddc1def"
      },
      "outputs": [],
      "source": [
        "import numpy as np\n",
        "import matplotlib.pyplot as plt\n",
        "import pandas as pd"
      ]
    },
    {
      "cell_type": "code",
      "execution_count": 2,
      "id": "39853f56",
      "metadata": {
        "colab": {
          "base_uri": "https://localhost:8080/"
        },
        "id": "39853f56",
        "outputId": "1507058b-5f2f-49ad-8c5a-5ca0b6d0a539"
      },
      "outputs": [
        {
          "output_type": "stream",
          "name": "stdout",
          "text": [
            "Collecting japanize_matplotlib\n",
            "  Downloading japanize-matplotlib-1.1.3.tar.gz (4.1 MB)\n",
            "\u001b[2K     \u001b[90m━━━━━━━━━━━━━━━━━━━━━━━━━━━━━━━━━━━━━━━━\u001b[0m \u001b[32m4.1/4.1 MB\u001b[0m \u001b[31m20.1 MB/s\u001b[0m eta \u001b[36m0:00:00\u001b[0m\n",
            "\u001b[?25h  Preparing metadata (setup.py) ... \u001b[?25l\u001b[?25hdone\n",
            "Requirement already satisfied: matplotlib in /usr/local/lib/python3.10/dist-packages (from japanize_matplotlib) (3.7.1)\n",
            "Requirement already satisfied: contourpy>=1.0.1 in /usr/local/lib/python3.10/dist-packages (from matplotlib->japanize_matplotlib) (1.1.0)\n",
            "Requirement already satisfied: cycler>=0.10 in /usr/local/lib/python3.10/dist-packages (from matplotlib->japanize_matplotlib) (0.11.0)\n",
            "Requirement already satisfied: fonttools>=4.22.0 in /usr/local/lib/python3.10/dist-packages (from matplotlib->japanize_matplotlib) (4.41.1)\n",
            "Requirement already satisfied: kiwisolver>=1.0.1 in /usr/local/lib/python3.10/dist-packages (from matplotlib->japanize_matplotlib) (1.4.4)\n",
            "Requirement already satisfied: numpy>=1.20 in /usr/local/lib/python3.10/dist-packages (from matplotlib->japanize_matplotlib) (1.22.4)\n",
            "Requirement already satisfied: packaging>=20.0 in /usr/local/lib/python3.10/dist-packages (from matplotlib->japanize_matplotlib) (23.1)\n",
            "Requirement already satisfied: pillow>=6.2.0 in /usr/local/lib/python3.10/dist-packages (from matplotlib->japanize_matplotlib) (9.4.0)\n",
            "Requirement already satisfied: pyparsing>=2.3.1 in /usr/local/lib/python3.10/dist-packages (from matplotlib->japanize_matplotlib) (3.1.0)\n",
            "Requirement already satisfied: python-dateutil>=2.7 in /usr/local/lib/python3.10/dist-packages (from matplotlib->japanize_matplotlib) (2.8.2)\n",
            "Requirement already satisfied: six>=1.5 in /usr/local/lib/python3.10/dist-packages (from python-dateutil>=2.7->matplotlib->japanize_matplotlib) (1.16.0)\n",
            "Building wheels for collected packages: japanize_matplotlib\n",
            "  Building wheel for japanize_matplotlib (setup.py) ... \u001b[?25l\u001b[?25hdone\n",
            "  Created wheel for japanize_matplotlib: filename=japanize_matplotlib-1.1.3-py3-none-any.whl size=4120257 sha256=d425e310de087bc003c385ecd1fa4e5e95aa9e6c529b48ebe856201a6a6f8d53\n",
            "  Stored in directory: /root/.cache/pip/wheels/61/7a/6b/df1f79be9c59862525070e157e62b08eab8ece27c1b68fbb94\n",
            "Successfully built japanize_matplotlib\n",
            "Installing collected packages: japanize_matplotlib\n",
            "Successfully installed japanize_matplotlib-1.1.3\n"
          ]
        }
      ],
      "source": [
        "# 日本語も使えるようにしておく。\n",
        "!pip install japanize_matplotlib\n",
        "import japanize_matplotlib"
      ]
    },
    {
      "cell_type": "markdown",
      "id": "94bbe913",
      "metadata": {
        "id": "94bbe913"
      },
      "source": [
        "## データの読み込み"
      ]
    },
    {
      "cell_type": "code",
      "execution_count": 3,
      "id": "e72e298e",
      "metadata": {
        "id": "e72e298e"
      },
      "outputs": [],
      "source": [
        "d = pd.read_csv(\"supernovae.txt\")"
      ]
    },
    {
      "cell_type": "code",
      "execution_count": 4,
      "id": "6195da91",
      "metadata": {
        "colab": {
          "base_uri": "https://localhost:8080/",
          "height": 545
        },
        "id": "6195da91",
        "outputId": "d79655a0-f6bb-4481-e3d2-95fa837b10d8",
        "scrolled": true
      },
      "outputs": [
        {
          "output_type": "execute_result",
          "data": {
            "text/plain": [
              "        z      m\n",
              "0   0.030  16.26\n",
              "1   0.050  17.63\n",
              "2   0.026  16.08\n",
              "3   0.075  18.43\n",
              "4   0.026  16.28\n",
              "5   0.014  14.47\n",
              "6   0.101  19.16\n",
              "7   0.020  15.18\n",
              "8   0.036  16.66\n",
              "9   0.045  17.61\n",
              "10  0.043  17.19\n",
              "11  0.079  18.27\n",
              "12  0.063  18.24\n",
              "13  0.071  18.33\n",
              "14  0.052  17.54\n",
              "15  0.050  17.69"
            ],
            "text/html": [
              "\n",
              "\n",
              "  <div id=\"df-93e30373-2f99-4505-bc09-3587b72b4ed6\">\n",
              "    <div class=\"colab-df-container\">\n",
              "      <div>\n",
              "<style scoped>\n",
              "    .dataframe tbody tr th:only-of-type {\n",
              "        vertical-align: middle;\n",
              "    }\n",
              "\n",
              "    .dataframe tbody tr th {\n",
              "        vertical-align: top;\n",
              "    }\n",
              "\n",
              "    .dataframe thead th {\n",
              "        text-align: right;\n",
              "    }\n",
              "</style>\n",
              "<table border=\"1\" class=\"dataframe\">\n",
              "  <thead>\n",
              "    <tr style=\"text-align: right;\">\n",
              "      <th></th>\n",
              "      <th>z</th>\n",
              "      <th>m</th>\n",
              "    </tr>\n",
              "  </thead>\n",
              "  <tbody>\n",
              "    <tr>\n",
              "      <th>0</th>\n",
              "      <td>0.030</td>\n",
              "      <td>16.26</td>\n",
              "    </tr>\n",
              "    <tr>\n",
              "      <th>1</th>\n",
              "      <td>0.050</td>\n",
              "      <td>17.63</td>\n",
              "    </tr>\n",
              "    <tr>\n",
              "      <th>2</th>\n",
              "      <td>0.026</td>\n",
              "      <td>16.08</td>\n",
              "    </tr>\n",
              "    <tr>\n",
              "      <th>3</th>\n",
              "      <td>0.075</td>\n",
              "      <td>18.43</td>\n",
              "    </tr>\n",
              "    <tr>\n",
              "      <th>4</th>\n",
              "      <td>0.026</td>\n",
              "      <td>16.28</td>\n",
              "    </tr>\n",
              "    <tr>\n",
              "      <th>5</th>\n",
              "      <td>0.014</td>\n",
              "      <td>14.47</td>\n",
              "    </tr>\n",
              "    <tr>\n",
              "      <th>6</th>\n",
              "      <td>0.101</td>\n",
              "      <td>19.16</td>\n",
              "    </tr>\n",
              "    <tr>\n",
              "      <th>7</th>\n",
              "      <td>0.020</td>\n",
              "      <td>15.18</td>\n",
              "    </tr>\n",
              "    <tr>\n",
              "      <th>8</th>\n",
              "      <td>0.036</td>\n",
              "      <td>16.66</td>\n",
              "    </tr>\n",
              "    <tr>\n",
              "      <th>9</th>\n",
              "      <td>0.045</td>\n",
              "      <td>17.61</td>\n",
              "    </tr>\n",
              "    <tr>\n",
              "      <th>10</th>\n",
              "      <td>0.043</td>\n",
              "      <td>17.19</td>\n",
              "    </tr>\n",
              "    <tr>\n",
              "      <th>11</th>\n",
              "      <td>0.079</td>\n",
              "      <td>18.27</td>\n",
              "    </tr>\n",
              "    <tr>\n",
              "      <th>12</th>\n",
              "      <td>0.063</td>\n",
              "      <td>18.24</td>\n",
              "    </tr>\n",
              "    <tr>\n",
              "      <th>13</th>\n",
              "      <td>0.071</td>\n",
              "      <td>18.33</td>\n",
              "    </tr>\n",
              "    <tr>\n",
              "      <th>14</th>\n",
              "      <td>0.052</td>\n",
              "      <td>17.54</td>\n",
              "    </tr>\n",
              "    <tr>\n",
              "      <th>15</th>\n",
              "      <td>0.050</td>\n",
              "      <td>17.69</td>\n",
              "    </tr>\n",
              "  </tbody>\n",
              "</table>\n",
              "</div>\n",
              "      <button class=\"colab-df-convert\" onclick=\"convertToInteractive('df-93e30373-2f99-4505-bc09-3587b72b4ed6')\"\n",
              "              title=\"Convert this dataframe to an interactive table.\"\n",
              "              style=\"display:none;\">\n",
              "\n",
              "  <svg xmlns=\"http://www.w3.org/2000/svg\" height=\"24px\"viewBox=\"0 0 24 24\"\n",
              "       width=\"24px\">\n",
              "    <path d=\"M0 0h24v24H0V0z\" fill=\"none\"/>\n",
              "    <path d=\"M18.56 5.44l.94 2.06.94-2.06 2.06-.94-2.06-.94-.94-2.06-.94 2.06-2.06.94zm-11 1L8.5 8.5l.94-2.06 2.06-.94-2.06-.94L8.5 2.5l-.94 2.06-2.06.94zm10 10l.94 2.06.94-2.06 2.06-.94-2.06-.94-.94-2.06-.94 2.06-2.06.94z\"/><path d=\"M17.41 7.96l-1.37-1.37c-.4-.4-.92-.59-1.43-.59-.52 0-1.04.2-1.43.59L10.3 9.45l-7.72 7.72c-.78.78-.78 2.05 0 2.83L4 21.41c.39.39.9.59 1.41.59.51 0 1.02-.2 1.41-.59l7.78-7.78 2.81-2.81c.8-.78.8-2.07 0-2.86zM5.41 20L4 18.59l7.72-7.72 1.47 1.35L5.41 20z\"/>\n",
              "  </svg>\n",
              "      </button>\n",
              "\n",
              "\n",
              "\n",
              "    <div id=\"df-6cf03eed-7618-4c2c-b943-688dd8447cf0\">\n",
              "      <button class=\"colab-df-quickchart\" onclick=\"quickchart('df-6cf03eed-7618-4c2c-b943-688dd8447cf0')\"\n",
              "              title=\"Suggest charts.\"\n",
              "              style=\"display:none;\">\n",
              "\n",
              "<svg xmlns=\"http://www.w3.org/2000/svg\" height=\"24px\"viewBox=\"0 0 24 24\"\n",
              "     width=\"24px\">\n",
              "    <g>\n",
              "        <path d=\"M19 3H5c-1.1 0-2 .9-2 2v14c0 1.1.9 2 2 2h14c1.1 0 2-.9 2-2V5c0-1.1-.9-2-2-2zM9 17H7v-7h2v7zm4 0h-2V7h2v10zm4 0h-2v-4h2v4z\"/>\n",
              "    </g>\n",
              "</svg>\n",
              "      </button>\n",
              "    </div>\n",
              "\n",
              "<style>\n",
              "  .colab-df-quickchart {\n",
              "    background-color: #E8F0FE;\n",
              "    border: none;\n",
              "    border-radius: 50%;\n",
              "    cursor: pointer;\n",
              "    display: none;\n",
              "    fill: #1967D2;\n",
              "    height: 32px;\n",
              "    padding: 0 0 0 0;\n",
              "    width: 32px;\n",
              "  }\n",
              "\n",
              "  .colab-df-quickchart:hover {\n",
              "    background-color: #E2EBFA;\n",
              "    box-shadow: 0px 1px 2px rgba(60, 64, 67, 0.3), 0px 1px 3px 1px rgba(60, 64, 67, 0.15);\n",
              "    fill: #174EA6;\n",
              "  }\n",
              "\n",
              "  [theme=dark] .colab-df-quickchart {\n",
              "    background-color: #3B4455;\n",
              "    fill: #D2E3FC;\n",
              "  }\n",
              "\n",
              "  [theme=dark] .colab-df-quickchart:hover {\n",
              "    background-color: #434B5C;\n",
              "    box-shadow: 0px 1px 3px 1px rgba(0, 0, 0, 0.15);\n",
              "    filter: drop-shadow(0px 1px 2px rgba(0, 0, 0, 0.3));\n",
              "    fill: #FFFFFF;\n",
              "  }\n",
              "</style>\n",
              "\n",
              "    <script>\n",
              "      async function quickchart(key) {\n",
              "        const containerElement = document.querySelector('#' + key);\n",
              "        const charts = await google.colab.kernel.invokeFunction(\n",
              "            'suggestCharts', [key], {});\n",
              "      }\n",
              "    </script>\n",
              "\n",
              "      <script>\n",
              "\n",
              "function displayQuickchartButton(domScope) {\n",
              "  let quickchartButtonEl =\n",
              "    domScope.querySelector('#df-6cf03eed-7618-4c2c-b943-688dd8447cf0 button.colab-df-quickchart');\n",
              "  quickchartButtonEl.style.display =\n",
              "    google.colab.kernel.accessAllowed ? 'block' : 'none';\n",
              "}\n",
              "\n",
              "        displayQuickchartButton(document);\n",
              "      </script>\n",
              "      <style>\n",
              "    .colab-df-container {\n",
              "      display:flex;\n",
              "      flex-wrap:wrap;\n",
              "      gap: 12px;\n",
              "    }\n",
              "\n",
              "    .colab-df-convert {\n",
              "      background-color: #E8F0FE;\n",
              "      border: none;\n",
              "      border-radius: 50%;\n",
              "      cursor: pointer;\n",
              "      display: none;\n",
              "      fill: #1967D2;\n",
              "      height: 32px;\n",
              "      padding: 0 0 0 0;\n",
              "      width: 32px;\n",
              "    }\n",
              "\n",
              "    .colab-df-convert:hover {\n",
              "      background-color: #E2EBFA;\n",
              "      box-shadow: 0px 1px 2px rgba(60, 64, 67, 0.3), 0px 1px 3px 1px rgba(60, 64, 67, 0.15);\n",
              "      fill: #174EA6;\n",
              "    }\n",
              "\n",
              "    [theme=dark] .colab-df-convert {\n",
              "      background-color: #3B4455;\n",
              "      fill: #D2E3FC;\n",
              "    }\n",
              "\n",
              "    [theme=dark] .colab-df-convert:hover {\n",
              "      background-color: #434B5C;\n",
              "      box-shadow: 0px 1px 3px 1px rgba(0, 0, 0, 0.15);\n",
              "      filter: drop-shadow(0px 1px 2px rgba(0, 0, 0, 0.3));\n",
              "      fill: #FFFFFF;\n",
              "    }\n",
              "  </style>\n",
              "\n",
              "      <script>\n",
              "        const buttonEl =\n",
              "          document.querySelector('#df-93e30373-2f99-4505-bc09-3587b72b4ed6 button.colab-df-convert');\n",
              "        buttonEl.style.display =\n",
              "          google.colab.kernel.accessAllowed ? 'block' : 'none';\n",
              "\n",
              "        async function convertToInteractive(key) {\n",
              "          const element = document.querySelector('#df-93e30373-2f99-4505-bc09-3587b72b4ed6');\n",
              "          const dataTable =\n",
              "            await google.colab.kernel.invokeFunction('convertToInteractive',\n",
              "                                                     [key], {});\n",
              "          if (!dataTable) return;\n",
              "\n",
              "          const docLinkHtml = 'Like what you see? Visit the ' +\n",
              "            '<a target=\"_blank\" href=https://colab.research.google.com/notebooks/data_table.ipynb>data table notebook</a>'\n",
              "            + ' to learn more about interactive tables.';\n",
              "          element.innerHTML = '';\n",
              "          dataTable['output_type'] = 'display_data';\n",
              "          await google.colab.output.renderOutput(dataTable, element);\n",
              "          const docLink = document.createElement('div');\n",
              "          docLink.innerHTML = docLinkHtml;\n",
              "          element.appendChild(docLink);\n",
              "        }\n",
              "      </script>\n",
              "    </div>\n",
              "  </div>\n"
            ]
          },
          "metadata": {},
          "execution_count": 4
        }
      ],
      "source": [
        "d"
      ]
    },
    {
      "cell_type": "code",
      "execution_count": 5,
      "id": "6f31ea56",
      "metadata": {
        "id": "6f31ea56"
      },
      "outputs": [],
      "source": [
        "z = np.array(d[\"z\"]) # 赤方偏移\n",
        "m = np.array(d[\"m\"]) # 最大光度のときの超新星の見かけの等級"
      ]
    },
    {
      "cell_type": "markdown",
      "id": "24c5cb19",
      "metadata": {
        "id": "24c5cb19"
      },
      "source": [
        "## 赤方偏移$z$を後退速度$v$に換算"
      ]
    },
    {
      "cell_type": "markdown",
      "id": "c6263915",
      "metadata": {
        "id": "c6263915"
      },
      "source": [
        "ここに含まれる比較的近傍の超新星については、赤方偏移$z=\\Delta\\lambda/\\lambda$（波長の伸びた割合）と後退速度$v$の間に\n",
        "$$\n",
        "    z = {v\\over c}\n",
        "$$\n",
        "の関係がある。ただし$c$は真空中の光速度で、値は$c\\approx 3\\times10^5\\,\\mathrm{km/s}$である。この関係を用いて、$z$を後退速度$v$（単位は$\\mathrm{km/s}$）に換算しよう。"
      ]
    },
    {
      "cell_type": "code",
      "execution_count": 6,
      "id": "1d78b280",
      "metadata": {
        "id": "1d78b280"
      },
      "outputs": [],
      "source": [
        "v = 3e5 * z # 3e5は3x10^5を表す"
      ]
    },
    {
      "cell_type": "code",
      "execution_count": 7,
      "id": "41e008c2",
      "metadata": {
        "colab": {
          "base_uri": "https://localhost:8080/"
        },
        "id": "41e008c2",
        "outputId": "b4b2a29b-fe33-4abd-b24c-0d36bdd6c1b6"
      },
      "outputs": [
        {
          "output_type": "execute_result",
          "data": {
            "text/plain": [
              "array([ 9000., 15000.,  7800., 22500.,  7800.,  4200., 30300.,  6000.,\n",
              "       10800., 13500., 12900., 23700., 18900., 21300., 15600., 15000.])"
            ]
          },
          "metadata": {},
          "execution_count": 7
        }
      ],
      "source": [
        "v"
      ]
    },
    {
      "cell_type": "markdown",
      "id": "bf0cbab0",
      "metadata": {
        "id": "bf0cbab0"
      },
      "source": [
        "## 見かけの等級$m$から距離$d$を推定"
      ]
    },
    {
      "cell_type": "markdown",
      "id": "b59e8e08",
      "metadata": {
        "id": "b59e8e08"
      },
      "source": [
        "このデータ中のIa型超新星は全て、距離$D=10\\,\\mathrm{pc}$（年周視差が$0.1$秒角になる距離）に置いたとき、等級がおおよそ$M=-19.3$になることが知られている。つまり、真の明るさがわかっている。これを既知として、見かけの等級$m$から距離$d$を推定したい。"
      ]
    },
    {
      "cell_type": "markdown",
      "id": "08991777",
      "metadata": {
        "id": "08991777"
      },
      "source": [
        "観測された超新星の見かけの明るさ（単位時間・単位面積あたりに地球に届くエネルギー）を$f$、超新星を**距離$D=10\\,\\mathrm{pc}$に置いたときの**見かけの明るさを$F$とする。このとき、見かけの明るさ$f$は距離の2乗に反比例する（逆二乗の法則）から\n",
        "$$\n",
        "f = F\\cdot \\left(D \\over d\\right)^2\n",
        "$$\n",
        "である。これを$d$について解くと、\n",
        "$$\n",
        "\\left(d \\over D\\right)^2 = {F \\over f} \\quad \\to \\quad d = D\\sqrt{F \\over f}\n",
        "$$\n",
        "となる。"
      ]
    },
    {
      "cell_type": "markdown",
      "id": "9953fd6d",
      "metadata": {
        "id": "9953fd6d"
      },
      "source": [
        "ここで、第11回で示した見かけの明るさと等級の関係を使うと、$f\\propto 10^{-0.4m}$, $F \\propto 10^{-0.4M}$  が成り立つ。よって\n",
        "$$\n",
        "    {F\\over f} = {10^{-0.4M} \\over 10^{-0.4m}} = 10^{-0.4(M-m)}\n",
        "$$\n",
        "である。これより\n",
        "$$\n",
        "    d = D\\sqrt{F\\over f} = D \\cdot \\left[10^{-0.4(M-m)}\\ \\ \\right]^{1/2} = D \\cdot 10^{-0.2(M-m)}\\ = D \\cdot 10^{0.2(m-M)} = 10\\cdot 10^{0.2(m-M)}\\ \\ \\mathrm{pc} = 10^{1+0.2(m-M)}\\ \\ \\mathrm{pc}\n",
        "$$\n",
        "となることがわかる。"
      ]
    },
    {
      "cell_type": "markdown",
      "id": "a2468316",
      "metadata": {
        "id": "a2468316"
      },
      "source": [
        "最後の式を用いて、$m$のデータと$M=-19.3$から、データ中の超新星の距離$d$を求めよう。$\\,\\mathrm{pc}$単位だと数が大きくなるので、単位は$\\,\\mathrm{Mpc}=10^6\\,\\mathrm{pc}$にしよう。"
      ]
    },
    {
      "cell_type": "code",
      "execution_count": 8,
      "id": "5dd5bdfd",
      "metadata": {
        "id": "5dd5bdfd"
      },
      "outputs": [],
      "source": [
        "M = -19.3\n",
        "d = 10**(1 + 0.2*(m-M)) / 1e6 # Mpcに換算するときは10^6で割る"
      ]
    },
    {
      "cell_type": "code",
      "execution_count": 9,
      "id": "04071914",
      "metadata": {
        "colab": {
          "base_uri": "https://localhost:8080/"
        },
        "id": "04071914",
        "outputId": "61ac37b5-9558-472d-d585-e85e25a62fbb"
      },
      "outputs": [
        {
          "output_type": "execute_result",
          "data": {
            "text/plain": [
              "array([129.41958414, 243.22040091, 119.1242008 , 351.56044053,\n",
              "       130.61708881,  56.75446054, 492.03953568,  78.70457897,\n",
              "       155.59656316, 240.99054287, 198.60949174, 326.58783217,\n",
              "       322.10687913, 335.73761424, 233.34580623, 250.03453617])"
            ]
          },
          "metadata": {},
          "execution_count": 9
        }
      ],
      "source": [
        "d"
      ]
    },
    {
      "cell_type": "markdown",
      "id": "bceb2d6b",
      "metadata": {
        "id": "bceb2d6b"
      },
      "source": [
        "## 後退速度$v$と距離$d$の関係（ハッブル-ルメートルの法則）"
      ]
    },
    {
      "cell_type": "markdown",
      "id": "ebb704fe",
      "metadata": {
        "id": "ebb704fe"
      },
      "source": [
        "上で求めた$v$ ($\\mathrm{km/s}$)を縦軸、$d$($\\mathrm{Mpc}$)を横軸にしてデータを点でプロットしてみよう。軸のラベルも入れること。"
      ]
    },
    {
      "cell_type": "code",
      "execution_count": 10,
      "id": "0aae2af4",
      "metadata": {
        "colab": {
          "base_uri": "https://localhost:8080/",
          "height": 453
        },
        "id": "0aae2af4",
        "outputId": "f997f077-3380-4858-91ab-fc9c6878dd3b"
      },
      "outputs": [
        {
          "output_type": "display_data",
          "data": {
            "text/plain": [
              "<Figure size 640x480 with 1 Axes>"
            ],
            "image/png": "[encoded data removed]"
          },
          "metadata": {}
        }
      ],
      "source": [
        "plt.plot(d, v, \"o\", label=\"超新星のデータ\")\n",
        "plt.xlabel(\"距離$d$（Mpc）\")\n",
        "plt.ylabel(\"後退速度$v$（km/s）\")\n",
        "plt.legend(loc=\"best\");"
      ]
    },
    {
      "cell_type": "markdown",
      "id": "2ed2de1d",
      "metadata": {
        "id": "2ed2de1d"
      },
      "source": [
        "比例関係になっていそうなのがわかるはずである。これをさらに確認するために、傾き$H_0$（[ハッブル定数](https://astro-dic.jp/hubble-constant/)）を$v/d$の平均値として推定し、データ点とともに$v=H_0d$という直線をプロットしてみよう。"
      ]
    },
    {
      "cell_type": "code",
      "execution_count": 11,
      "id": "3f8711a5",
      "metadata": {
        "id": "3f8711a5"
      },
      "outputs": [],
      "source": [
        "H0 = np.mean(v/d)"
      ]
    },
    {
      "cell_type": "code",
      "execution_count": 12,
      "id": "fde150cd",
      "metadata": {
        "colab": {
          "base_uri": "https://localhost:8080/"
        },
        "id": "fde150cd",
        "outputId": "f644c3fd-e1f8-4c15-92ff-7940daab57d9"
      },
      "outputs": [
        {
          "output_type": "execute_result",
          "data": {
            "text/plain": [
              "65.25871229182793"
            ]
          },
          "metadata": {},
          "execution_count": 12
        }
      ],
      "source": [
        "H0"
      ]
    },
    {
      "cell_type": "code",
      "execution_count": 13,
      "id": "913445f6",
      "metadata": {
        "colab": {
          "base_uri": "https://localhost:8080/",
          "height": 458
        },
        "id": "913445f6",
        "outputId": "80b63d33-882c-4d23-b0c6-9a9d73eaf0c2"
      },
      "outputs": [
        {
          "output_type": "display_data",
          "data": {
            "text/plain": [
              "<Figure size 640x480 with 1 Axes>"
            ],
            "image/png": "[encoded data removed]"
          },
          "metadata": {}
        }
      ],
      "source": [
        "x = np.linspace(0, 600, 100) # 直線をプロットするための配列を定義（lecture8-1.ipynb参照）\n",
        "plt.plot(x, H0*x, \"-\", color=\"gray\", label=\"$v=H_0 d$ ($H_0=65.3\\,\\mathrm{km/s/Mpc}$)\")\n",
        "plt.plot(d, v, \"o\", label=\"超新星のデータ\")\n",
        "plt.xlabel(\"距離$d$（Mpc）\")\n",
        "plt.ylabel(\"後退速度$v$（km/s）\")\n",
        "plt.xlim(0, 600)\n",
        "plt.ylim(0, 40000)\n",
        "plt.legend(loc=\"best\");"
      ]
    },
    {
      "cell_type": "markdown",
      "id": "c88fd53e",
      "metadata": {
        "id": "c88fd53e"
      },
      "source": [
        "## おまけ"
      ]
    },
    {
      "cell_type": "markdown",
      "id": "edb63ef6",
      "metadata": {
        "id": "edb63ef6"
      },
      "source": [
        "上で求めた$H_0$の単位は$\\mathrm{km/s/Mpc}$になっている。$1\\,\\mathrm{pc}$は年周視差が$1''=1/3600\\,\\mathrm{deg}$になる距離だから、\n",
        "$$\n",
        "1\\,\\mathrm{pc} = {1\\,\\mathrm{au} \\over (1/3600)\\,\\mathrm{deg}}\n",
        "$$\n",
        "である。$1\\,\\mathrm{au}=1.5\\times10^8\\,\\mathrm{km}$として$1\\,\\mathrm{pc}$を$\\mathrm{km}$単位に換算し、$H_0$の逆数 $1/H_0$（これは時間になる）を年の単位で求めよう。この時間はどのように解釈できるか？"
      ]
    },
    {
      "cell_type": "markdown",
      "id": "hQVZvA3mkouA",
      "metadata": {
        "id": "hQVZvA3mkouA"
      },
      "source": [
        "解説：上の結果から、$$\n",
        "{1 \\over H_0} = {1\\over 65.258...}\\,\\mathrm{s}\\cdot \\mathrm{Mpc\\over km}\n",
        "$$\n",
        "で、Mpcとkmはどちらも長さだからこれは時間になっている。Mpcをkm単位で表せばこの値が秒単位で得られる。"
      ]
    },
    {
      "cell_type": "code",
      "execution_count": 14,
      "id": "9f3a1599",
      "metadata": {
        "id": "9f3a1599"
      },
      "outputs": [],
      "source": [
        "pc_in_km = 1.5e8 / (1/3600 * np.pi / 180.)\n",
        "Mpc_in_km = 1e6 * pc_in_km"
      ]
    },
    {
      "cell_type": "markdown",
      "id": "a_pAcF-4lVyZ",
      "metadata": {
        "id": "a_pAcF-4lVyZ"
      },
      "source": [
        "より、秒単位では"
      ]
    },
    {
      "cell_type": "code",
      "execution_count": 15,
      "id": "LLEGmmTKlX1c",
      "metadata": {
        "colab": {
          "base_uri": "https://localhost:8080/"
        },
        "id": "LLEGmmTKlX1c",
        "outputId": "6c1e0345-38f3-4d65-a138-bbf6a904c3fd"
      },
      "outputs": [
        {
          "output_type": "execute_result",
          "data": {
            "text/plain": [
              "4.7410866458268896e+17"
            ]
          },
          "metadata": {},
          "execution_count": 15
        }
      ],
      "source": [
        "1 / H0 * Mpc_in_km"
      ]
    },
    {
      "cell_type": "markdown",
      "id": "jA7qHD0Elbg9",
      "metadata": {
        "id": "jA7qHD0Elbg9"
      },
      "source": [
        "これを年にするには1年の秒数で割ればよい。"
      ]
    },
    {
      "cell_type": "code",
      "execution_count": 16,
      "id": "UdWnh4GnlbAe",
      "metadata": {
        "id": "UdWnh4GnlbAe"
      },
      "outputs": [],
      "source": [
        "year_in_sec = 365.25 * 86400"
      ]
    },
    {
      "cell_type": "code",
      "execution_count": 17,
      "id": "e48d7d24",
      "metadata": {
        "colab": {
          "base_uri": "https://localhost:8080/"
        },
        "id": "e48d7d24",
        "outputId": "9a37100b-3b05-49bd-a31d-9da2bf952b14"
      },
      "outputs": [
        {
          "output_type": "execute_result",
          "data": {
            "text/plain": [
              "15023596996.688246"
            ]
          },
          "metadata": {},
          "execution_count": 17
        }
      ],
      "source": [
        "1 / H0 * Mpc_in_km / year_in_sec"
      ]
    },
    {
      "cell_type": "markdown",
      "id": "WF0jwFIJllOg",
      "metadata": {
        "id": "WF0jwFIJllOg"
      },
      "source": [
        "つまりこのデータから求めた$1/H_0$は約$1.5\\times 10^9$年（$150$億年）になる。これはおおよその宇宙の年齢と考えられ、[ハッブル時間](https://astro-dic.jp/hubble-time/)と呼ばれる。実際、ハッブル-ルメートルの法則$v=H_0 d$を用いて距離/速度を計算すると\n",
        "$$\n",
        "{d \\over v} = {d \\over H_0 d} = {1 \\over H_0}\n",
        "$$\n",
        "となっている。つまり、$v$がずっと一定なら、時間$1/H_0$遡ると宇宙が一点に集まる。\n",
        "\n",
        "より現実的な宇宙膨張のモデルと最新のデータを用いて推定した宇宙年齢は上の値よりやや小さく138億年程度である。"
      ]
    }
  ],
  "metadata": {
    "colab": {
      "provenance": []
    },
    "kernelspec": {
      "display_name": "py38",
      "language": "python",
      "name": "py38"
    },
    "language_info": {
      "codemirror_mode": {
        "name": "ipython",
        "version": 3
      },
      "file_extension": ".py",
      "mimetype": "text/x-python",
      "name": "python",
      "nbconvert_exporter": "python",
      "pygments_lexer": "ipython3",
      "version": "3.8.13"
    }
  },
  "nbformat": 4,
  "nbformat_minor": 5
}