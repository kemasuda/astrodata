{
 "cells": [
  {
   "cell_type": "code",
   "execution_count": null,
   "metadata": {},
   "outputs": [],
   "source": [
    "import numpy as np\n",
    "import matplotlib.pyplot as plt"
   ]
  },
  {
   "cell_type": "markdown",
   "metadata": {},
   "source": [
    "# データの読み込み"
   ]
  },
  {
   "cell_type": "markdown",
   "metadata": {},
   "source": [
    "まずは51 Peg（最初に系外惑星が見つかった太陽に似た恒星）の視線速度データ 51Peg_rv.csv を読み込んでみよう（RVは視線速度Radial Velocityの略）。[教材4-1](https://utokyo-ipp.github.io/4/4-1.html)のような方法もあるが、ここでは pandas というパッケージを使う。"
   ]
  },
  {
   "cell_type": "code",
   "execution_count": null,
   "metadata": {
    "id": "mGZi7S_scZxE"
   },
   "outputs": [],
   "source": [
    "import pandas as pd"
   ]
  },
  {
   "cell_type": "markdown",
   "metadata": {},
   "source": [
    "read_csv は、カンマ（,）記号で区切られたCSV（Comma Separated Value）形式のデータを読み込む関数である。comment=\"#\"は、#から始まる行はコメントとして無視することを指示している（ファイルを直接開いて見てみよう）。さらに引数に delimiter=\"|\" などと指定すれば、カンマ以外で区切られたデータ（この例では|）も同様に読めて便利である。"
   ]
  },
  {
   "cell_type": "code",
   "execution_count": null,
   "metadata": {
    "id": "D7qN6HSLceMo"
   },
   "outputs": [],
   "source": [
    "data = pd.read_csv(\"51Peg_rv.txt\", comment=\"#\")"
   ]
  },
  {
   "cell_type": "code",
   "execution_count": null,
   "metadata": {},
   "outputs": [],
   "source": [
    "data"
   ]
  },
  {
   "cell_type": "markdown",
   "metadata": {},
   "source": [
    "最初の行はヘッダーとして扱われ、列の名前になる。辞書（[教材3-1](https://utokyo-ipp.github.io/3/3-1.html)）と同様に、列の名前をキーとしてデータを参照できる。例えば"
   ]
  },
  {
   "cell_type": "code",
   "execution_count": null,
   "metadata": {},
   "outputs": [],
   "source": [
    "data[\"BJD\"]"
   ]
  },
  {
   "cell_type": "markdown",
   "metadata": {},
   "source": [
    "でBJDの列が取り出される。BJDは重心ユリウス日と呼ばれる量で、要するに時間をある時刻から日（day）の単位で示したものである。ここでは視線速度と時間の関係を知りたいので、BJDとRVを配列として取り出しておく。"
   ]
  },
  {
   "cell_type": "code",
   "execution_count": null,
   "metadata": {},
   "outputs": [],
   "source": [
    "x = np.array(data[\"BJD\"])\n",
    "y = np.array(data[\"RV\"])"
   ]
  },
  {
   "cell_type": "markdown",
   "metadata": {},
   "source": [
    "Matplotlibでプロットしてみよう。"
   ]
  },
  {
   "cell_type": "code",
   "execution_count": null,
   "metadata": {},
   "outputs": [],
   "source": [
    "plt.xlabel(\"BJD\")\n",
    "plt.ylabel(\"RV (m/s)\")\n",
    "plt.plot(x, y, \".\");"
   ]
  },
  {
   "cell_type": "markdown",
   "metadata": {
    "id": "qgsvzjSddrsV"
   },
   "source": [
    "デフォルトだとラベルとかに日本語が使えないが、japanize_matplotlib というパッケージをインポートすると使えるようになる。japanize_matplotlib はデフォルトではColabにインストールされていないようなので、!pip install japanize_matplotlib でまずインストールする。他のパッケージも同様にインストールできるので、colab に入っていないものが必要な時はそうする。"
   ]
  },
  {
   "cell_type": "code",
   "execution_count": null,
   "metadata": {
    "colab": {
     "base_uri": "https://localhost:8080/"
    },
    "id": "L5iAOUuhdKS0",
    "outputId": "f8aaea55-5435-45cf-b57e-1fdbd3881686"
   },
   "outputs": [],
   "source": [
    "!pip install japanize_matplotlib\n",
    "import japanize_matplotlib"
   ]
  },
  {
   "cell_type": "markdown",
   "metadata": {},
   "source": [
    "これで日本語が使えるようになった。ついでにBJDの値が大きすぎて見づらいので、最初の時刻からの差として定義しなおそう。つまり"
   ]
  },
  {
   "cell_type": "code",
   "execution_count": null,
   "metadata": {},
   "outputs": [],
   "source": [
    "t = x - x[0] # xの全要素から0番目x[0]を引いたものをtとする"
   ]
  },
  {
   "cell_type": "markdown",
   "metadata": {},
   "source": [
    "をxの代わりに用いる。"
   ]
  },
  {
   "cell_type": "code",
   "execution_count": null,
   "metadata": {
    "scrolled": true
   },
   "outputs": [],
   "source": [
    "plt.xlabel(\"最初の測定からの時間 (日)\")\n",
    "plt.ylabel(\"視線速度 (m/s)\")\n",
    "plt.plot(t, y, \".\");"
   ]
  },
  {
   "cell_type": "markdown",
   "metadata": {},
   "source": [
    "# 周期変動を確かめる"
   ]
  },
  {
   "cell_type": "markdown",
   "metadata": {},
   "source": [
    "上のプロットだけ見ていても何かばらついていることしかわからない。[Birkby et al. (2017)](https://iopscience.iop.org/article/10.3847/1538-3881/aa5c87) によると、51 Pegを公転する惑星の周期は 4.230787日である。ここではこの周期を既知とし、上の視線速度データが一定の周期で変動していることを確かめてみよう。"
   ]
  },
  {
   "cell_type": "code",
   "execution_count": null,
   "metadata": {},
   "outputs": [],
   "source": [
    "period = 4.230787 # 公転周期（日）"
   ]
  },
  {
   "cell_type": "markdown",
   "metadata": {},
   "source": [
    "もし視線速度（ここでは配列$y$）が上の period で周期的に変化していれば、ある時刻$t=t_0$における$y$の値と、時刻$t=t_0+P, t_0+2P, t_0+3P, \\dots$における$y$の値は全て同じはずである。すなわち、$y$は$t$を$P$で割った余りのみに依存するはずである。これを視覚的に確かめてみよう。"
   ]
  },
  {
   "cell_type": "markdown",
   "metadata": {},
   "source": [
    "## 課題\n",
    "$t$を$P$で割った余りを横軸、$y$を縦軸としてデータをプロットしてみよう。軸のラベルも適切に記入すること。"
   ]
  },
  {
   "cell_type": "code",
   "execution_count": null,
   "metadata": {},
   "outputs": [],
   "source": []
  },
  {
   "cell_type": "markdown",
   "metadata": {},
   "source": [
    "## 課題\n",
    "1. 「$t$を$P$で割った余り」をさらに$P$で割ったものを軌道の位相（phase）という。定義から位相は0から1の実数である。位相$\\phi$を計算し、$y$を縦軸、$\\phi$を横軸としてデータを再度プロットしてみよう。x軸の範囲は0から1に指定してみよう。\n",
    "2.  周期が1のサイン関数（を定数倍し、さらに定数を加えたもの）をデータ上にプロットし、振幅や定数を調整してデータと近くなるか試してみよう（大体で良い）。"
   ]
  },
  {
   "cell_type": "code",
   "execution_count": null,
   "metadata": {},
   "outputs": [],
   "source": []
  },
  {
   "cell_type": "markdown",
   "metadata": {},
   "source": [
    "余裕があればさらに以下もやってみよう。\n",
    "1. サイン関数の振幅$K$, 加えた定数$g$を引数とし、データとの差の二乗和\n",
    "$$\n",
    "    L = \\sum_{i=1}^N \\left\\{y_i - \\left[K\\sin(2\\pi \\phi_i) + g\\right]\\right\\}^2\n",
    "$$\n",
    "を返す関数 objective を作成しよう。\n",
    "2. 上の課題で大体求めた$K$と$g$の周辺で、[for文](https://utokyo-ipp.github.io/3/3-2.html)を用いて$L(K,g)$を計算し、$L$が最小になる$(K, g)$を探してみよう。\n",
    "3. さらに余裕があれば、$K$から惑星の質量についてどのような情報が得られるか考察してみよう。恒星51Pegの質量は太陽の約1.1倍である。太陽質量は有効数字3桁で$1.99\\times 10^{30}\\,\\mathrm{kg}$, 木星の質量は$1.90\\times10^{27}\\,\\mathrm{kg}$, 万有引力定数は$G=6.67\\times10^{-11}\\,\\mathrm{m^3/kg/s^2}$である。"
   ]
  },
  {
   "cell_type": "code",
   "execution_count": null,
   "metadata": {},
   "outputs": [],
   "source": []
  }
 ],
 "metadata": {
  "colab": {
   "provenance": []
  },
  "kernelspec": {
   "display_name": "Python 3.11",
   "language": "python",
   "name": "python3"
  },
  "language_info": {
   "codemirror_mode": {
    "name": "ipython",
    "version": 3
   },
   "file_extension": ".py",
   "mimetype": "text/x-python",
   "name": "python",
   "nbconvert_exporter": "python",
   "pygments_lexer": "ipython3",
   "version": "3.11.3"
  }
 },
 "nbformat": 4,
 "nbformat_minor": 1
}
