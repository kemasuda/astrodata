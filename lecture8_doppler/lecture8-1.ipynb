{
  "cells": [
    {
      "cell_type": "markdown",
      "metadata": {
        "id": "xqPzwH-Sicxl"
      },
      "source": [
        "# NumPy"
      ]
    },
    {
      "cell_type": "markdown",
      "metadata": {
        "id": "wDR1mb3Qicxn"
      },
      "source": [
        "Pythonでベクトルや行列といった配列の計算を効率よく行うには、リストではなくNumPyライブラリを使う方が便利である（[教材5-3](https://utokyo-ipp.github.io/5/5-3.html)も参照）。標準ライブラリではないので以下のようにインポートして使う。"
      ]
    },
    {
      "cell_type": "code",
      "execution_count": 1,
      "metadata": {
        "id": "sM2OVExJicxo"
      },
      "outputs": [],
      "source": [
        "import numpy as np"
      ]
    },
    {
      "cell_type": "markdown",
      "metadata": {
        "id": "RZcen2dPicxp"
      },
      "source": [
        "as 以降はなんでもよいが、普通は np を使うのでそうしよう。"
      ]
    },
    {
      "cell_type": "markdown",
      "metadata": {
        "id": "zPQ5OhMdicxq"
      },
      "source": [
        "numpy で配列を作るには np.array() 関数を用いる。例えば"
      ]
    },
    {
      "cell_type": "code",
      "execution_count": 2,
      "metadata": {
        "id": "xLl_AVLiicxq"
      },
      "outputs": [],
      "source": [
        "a = np.array([1, 2, 3, 4, 5])"
      ]
    },
    {
      "cell_type": "markdown",
      "metadata": {
        "id": "mT5QSVBpicxq"
      },
      "source": [
        "とするとリスト [1,2,3,4,5] から numpyの配列（numpy.ndarray）が作れる。"
      ]
    },
    {
      "cell_type": "code",
      "execution_count": 3,
      "metadata": {
        "id": "zv4XHEq3icxr",
        "outputId": "86c00cc9-2491-4524-b860-fd9d540d1b7b",
        "colab": {
          "base_uri": "https://localhost:8080/"
        }
      },
      "outputs": [
        {
          "output_type": "execute_result",
          "data": {
            "text/plain": [
              "array([1, 2, 3, 4, 5])"
            ]
          },
          "metadata": {},
          "execution_count": 3
        }
      ],
      "source": [
        "a"
      ]
    },
    {
      "cell_type": "markdown",
      "metadata": {
        "id": "bZKRIxsgicxr"
      },
      "source": [
        "リストと異なり、array()がついていることに注意。numpy.ndarray として定義するといろんな演算が簡単にできて便利である。例えば"
      ]
    },
    {
      "cell_type": "code",
      "execution_count": 4,
      "metadata": {
        "id": "TdwW1TtPicxr",
        "outputId": "a0181e54-689c-4e9d-9aa1-edb7398a25d6",
        "colab": {
          "base_uri": "https://localhost:8080/"
        }
      },
      "outputs": [
        {
          "output_type": "execute_result",
          "data": {
            "text/plain": [
              "array([ 1,  4,  9, 16, 25])"
            ]
          },
          "metadata": {},
          "execution_count": 4
        }
      ],
      "source": [
        "a**2"
      ]
    },
    {
      "cell_type": "markdown",
      "metadata": {
        "id": "tw2ChoZ9icxs"
      },
      "source": [
        "は a の全要素を2乗した配列を与える。同様に、"
      ]
    },
    {
      "cell_type": "code",
      "execution_count": 5,
      "metadata": {
        "id": "j9st-Kcjicxs",
        "outputId": "bea18b89-3338-4711-b375-545539b4b141",
        "colab": {
          "base_uri": "https://localhost:8080/"
        }
      },
      "outputs": [
        {
          "output_type": "execute_result",
          "data": {
            "text/plain": [
              "array([2, 3, 4, 5, 6])"
            ]
          },
          "metadata": {},
          "execution_count": 5
        }
      ],
      "source": [
        "a+1"
      ]
    },
    {
      "cell_type": "code",
      "execution_count": 6,
      "metadata": {
        "id": "WYR3odR_icxs",
        "outputId": "1b403c8b-53ae-4f6a-f39e-973fd25afaf4",
        "colab": {
          "base_uri": "https://localhost:8080/"
        }
      },
      "outputs": [
        {
          "output_type": "execute_result",
          "data": {
            "text/plain": [
              "array([ 2,  4,  6,  8, 10])"
            ]
          },
          "metadata": {},
          "execution_count": 6
        }
      ],
      "source": [
        "a*2"
      ]
    },
    {
      "cell_type": "markdown",
      "metadata": {
        "id": "85TqLqpVicxs"
      },
      "source": [
        "のような計算も全要素に対して行われる。2つのnumpy.ndarrayに対しても同様な計算ができる。例えば"
      ]
    },
    {
      "cell_type": "code",
      "execution_count": 7,
      "metadata": {
        "id": "fGu_NV28icxt"
      },
      "outputs": [],
      "source": [
        "b = np.array([-1, -2, -3, -4, -5])"
      ]
    },
    {
      "cell_type": "markdown",
      "metadata": {
        "id": "lCwkyjVticxt"
      },
      "source": [
        "に対して"
      ]
    },
    {
      "cell_type": "code",
      "execution_count": 8,
      "metadata": {
        "id": "k6_b9DtCicxt",
        "outputId": "b51ab0cc-071c-449b-b070-06b9f362ce81",
        "colab": {
          "base_uri": "https://localhost:8080/"
        }
      },
      "outputs": [
        {
          "output_type": "execute_result",
          "data": {
            "text/plain": [
              "array([0, 0, 0, 0, 0])"
            ]
          },
          "metadata": {},
          "execution_count": 8
        }
      ],
      "source": [
        "a + b"
      ]
    },
    {
      "cell_type": "code",
      "execution_count": 9,
      "metadata": {
        "id": "YKkvA-DPicxu",
        "outputId": "1f4f8ff0-f762-480d-a450-7ff99cb81f87",
        "colab": {
          "base_uri": "https://localhost:8080/"
        }
      },
      "outputs": [
        {
          "output_type": "execute_result",
          "data": {
            "text/plain": [
              "array([ -1,  -4,  -9, -16, -25])"
            ]
          },
          "metadata": {},
          "execution_count": 9
        }
      ],
      "source": [
        "a * b"
      ]
    },
    {
      "cell_type": "markdown",
      "metadata": {
        "id": "_wLEMg9-icxu"
      },
      "source": [
        "は要素ごとの和や積を与える。ちなみに上の b は a の各要素を -1 倍したものなので"
      ]
    },
    {
      "cell_type": "code",
      "execution_count": 10,
      "metadata": {
        "id": "sSjImtzoicxu",
        "outputId": "9e0d4c67-b52a-46ef-f1c3-275a82ffa46e",
        "colab": {
          "base_uri": "https://localhost:8080/"
        }
      },
      "outputs": [
        {
          "output_type": "execute_result",
          "data": {
            "text/plain": [
              "array([-1, -2, -3, -4, -5])"
            ]
          },
          "metadata": {},
          "execution_count": 10
        }
      ],
      "source": [
        "-a"
      ]
    },
    {
      "cell_type": "markdown",
      "metadata": {
        "id": "Z8OeQFojicxu"
      },
      "source": [
        "と書いても同じものが定義できる。これらの操作はリスト（[教材2-2](https://utokyo-ipp.github.io/2/2-2.html)参照）ではそのままはできない。リストにfor文（[教材3-2](https://utokyo-ipp.github.io/3/3-2.html)）を適用すればできないことはないが、numpy.ndarray を使った方が速いしコードも短くて済む。"
      ]
    },
    {
      "cell_type": "markdown",
      "metadata": {
        "id": "zgihOfhBicxv"
      },
      "source": [
        "真理値の配列も作れる。例えば"
      ]
    },
    {
      "cell_type": "code",
      "execution_count": 11,
      "metadata": {
        "id": "7RnI2SGyicxv",
        "outputId": "be42879d-d226-4ecd-cc9b-fd2a68a227b4",
        "colab": {
          "base_uri": "https://localhost:8080/"
        }
      },
      "outputs": [
        {
          "output_type": "execute_result",
          "data": {
            "text/plain": [
              "array([ True,  True,  True,  True,  True])"
            ]
          },
          "metadata": {},
          "execution_count": 11
        }
      ],
      "source": [
        "a > 0"
      ]
    },
    {
      "cell_type": "markdown",
      "metadata": {
        "id": "zpf-WneWicxv"
      },
      "source": [
        "はaの各要素が全部正なので全部がTrueの配列になる。"
      ]
    },
    {
      "cell_type": "markdown",
      "metadata": {
        "id": "S5y3V3tcicxv"
      },
      "source": [
        "## numpyの関数"
      ]
    },
    {
      "cell_type": "markdown",
      "metadata": {
        "id": "--gDcMOqicxw"
      },
      "source": [
        "numpy には様々な関数が用意されている。例えば上の　a = np.array([1, 2, 3, 4, 5])　は次のようにしても作れる。"
      ]
    },
    {
      "cell_type": "code",
      "execution_count": 12,
      "metadata": {
        "id": "70yhfvAgicxw",
        "outputId": "d6752589-8862-466a-9e41-c242c433f0c9",
        "colab": {
          "base_uri": "https://localhost:8080/"
        }
      },
      "outputs": [
        {
          "output_type": "execute_result",
          "data": {
            "text/plain": [
              "array([1, 2, 3, 4, 5])"
            ]
          },
          "metadata": {},
          "execution_count": 12
        }
      ],
      "source": [
        "np.arange(1, 6)"
      ]
    },
    {
      "cell_type": "markdown",
      "metadata": {
        "id": "NjhowVsWicxw"
      },
      "source": [
        "最初の1は含まれるが、6は含まれないことに注意する。Pythonではいつもそういうルールになっている。"
      ]
    },
    {
      "cell_type": "markdown",
      "metadata": {
        "id": "3Jr8nYeMicxx"
      },
      "source": [
        "簡単な演算を行う関数もnumpyに入っている。例えば"
      ]
    },
    {
      "cell_type": "code",
      "execution_count": 13,
      "metadata": {
        "id": "PWttcS8oicxx",
        "outputId": "199d32db-994c-49f1-dc3f-ba87b6633fb8",
        "colab": {
          "base_uri": "https://localhost:8080/"
        }
      },
      "outputs": [
        {
          "output_type": "execute_result",
          "data": {
            "text/plain": [
              "array([1.        , 1.41421356, 1.73205081, 2.        , 2.23606798])"
            ]
          },
          "metadata": {},
          "execution_count": 13
        }
      ],
      "source": [
        "np.sqrt(a)"
      ]
    },
    {
      "cell_type": "markdown",
      "metadata": {
        "id": "ugzXi6jnicxx"
      },
      "source": [
        "とすると各要素の正の平方根が計算できる。他にも例えば"
      ]
    },
    {
      "cell_type": "code",
      "execution_count": 14,
      "metadata": {
        "id": "VXd3lhn0icxx",
        "outputId": "8ad9bfaf-7b40-4663-c794-18064a265a93",
        "colab": {
          "base_uri": "https://localhost:8080/"
        }
      },
      "outputs": [
        {
          "output_type": "execute_result",
          "data": {
            "text/plain": [
              "15"
            ]
          },
          "metadata": {},
          "execution_count": 14
        }
      ],
      "source": [
        "np.sum(a)"
      ]
    },
    {
      "cell_type": "markdown",
      "metadata": {
        "id": "vq4qD7nNicxx"
      },
      "source": [
        "とすると配列の全要素の和が得られる。これを使うと、aの要素の平均（mean）は"
      ]
    },
    {
      "cell_type": "code",
      "execution_count": 15,
      "metadata": {
        "id": "elcvf6pIicxy"
      },
      "outputs": [],
      "source": [
        "a_mean = np.sum(a) / len(a)"
      ]
    },
    {
      "cell_type": "code",
      "execution_count": 16,
      "metadata": {
        "id": "3DYHbr0Qicxy",
        "outputId": "75a14706-28b1-4c65-bdf7-eafe979bc985",
        "colab": {
          "base_uri": "https://localhost:8080/"
        }
      },
      "outputs": [
        {
          "output_type": "execute_result",
          "data": {
            "text/plain": [
              "3.0"
            ]
          },
          "metadata": {},
          "execution_count": 16
        }
      ],
      "source": [
        "a_mean"
      ]
    },
    {
      "cell_type": "markdown",
      "metadata": {
        "id": "peWu4IqAicxy"
      },
      "source": [
        "となる。len(a)はaの要素数（今の場合は5）を返す関数である。実は平均のようなよく使う演算であれば関数が用意されており、"
      ]
    },
    {
      "cell_type": "code",
      "execution_count": 17,
      "metadata": {
        "id": "Ro6mUUhaicxy",
        "outputId": "2f5b248e-aca3-4a0c-e3f9-1be4b2e4b5cd",
        "colab": {
          "base_uri": "https://localhost:8080/"
        }
      },
      "outputs": [
        {
          "output_type": "execute_result",
          "data": {
            "text/plain": [
              "3.0"
            ]
          },
          "metadata": {},
          "execution_count": 17
        }
      ],
      "source": [
        "np.mean(a)"
      ]
    },
    {
      "cell_type": "markdown",
      "metadata": {
        "id": "4WjKFdhaicxz"
      },
      "source": [
        "とすれば上のようにしなくても一発で計算できる。平均以外の統計量（中央値や標準偏差など）についても大体関数が用意されている。"
      ]
    },
    {
      "cell_type": "markdown",
      "metadata": {
        "id": "mhIVz436icxz"
      },
      "source": [
        "## スライス"
      ]
    },
    {
      "cell_type": "markdown",
      "metadata": {
        "id": "7NuoPhjTicxz"
      },
      "source": [
        "がうまく使えるとできることが増える。"
      ]
    },
    {
      "cell_type": "code",
      "execution_count": 18,
      "metadata": {
        "id": "jBBN-IISicx0",
        "outputId": "ef46ee0b-362b-46f4-a29b-c4d8c1c0a9f4",
        "colab": {
          "base_uri": "https://localhost:8080/"
        }
      },
      "outputs": [
        {
          "output_type": "execute_result",
          "data": {
            "text/plain": [
              "array([1, 2, 3, 4, 5])"
            ]
          },
          "metadata": {},
          "execution_count": 18
        }
      ],
      "source": [
        "a"
      ]
    },
    {
      "cell_type": "markdown",
      "metadata": {
        "id": "hfUM3T_dicx0"
      },
      "source": [
        "に対して、"
      ]
    },
    {
      "cell_type": "code",
      "execution_count": 19,
      "metadata": {
        "id": "hgWFUFNIicx0",
        "outputId": "158cddc0-a63b-4c89-bbb8-a3ee55097943",
        "colab": {
          "base_uri": "https://localhost:8080/"
        }
      },
      "outputs": [
        {
          "output_type": "execute_result",
          "data": {
            "text/plain": [
              "array([2, 3])"
            ]
          },
          "metadata": {},
          "execution_count": 19
        }
      ],
      "source": [
        "a[1:3]"
      ]
    },
    {
      "cell_type": "markdown",
      "metadata": {
        "id": "BlIWHn8gicx0"
      },
      "source": [
        "とすると、aの1番目以降、3番目より前（上のnp.arange関数の場合と同様3番目は入らない）の要素が取り出せる。最初は0番目と数えるのがPythonのルールである。これ以外に真理値の配列も使える。例えばさっきの"
      ]
    },
    {
      "cell_type": "code",
      "execution_count": 20,
      "metadata": {
        "id": "2hGyLRi1icx0",
        "outputId": "dc60c9e4-5a9d-4d9f-f06f-f4c26b12bc4b",
        "colab": {
          "base_uri": "https://localhost:8080/"
        }
      },
      "outputs": [
        {
          "output_type": "execute_result",
          "data": {
            "text/plain": [
              "array([1, 2, 3, 4, 5])"
            ]
          },
          "metadata": {},
          "execution_count": 20
        }
      ],
      "source": [
        "a"
      ]
    },
    {
      "cell_type": "markdown",
      "metadata": {
        "id": "OEz2MryAicx1"
      },
      "source": [
        "に対して、3より大きい要素だけ取り出したいとする。そのためには"
      ]
    },
    {
      "cell_type": "code",
      "execution_count": 21,
      "metadata": {
        "id": "_yraX4bDicx1",
        "outputId": "30258595-b88b-401e-9424-5c1a066a6dfb",
        "colab": {
          "base_uri": "https://localhost:8080/"
        }
      },
      "outputs": [
        {
          "output_type": "execute_result",
          "data": {
            "text/plain": [
              "array([False, False, False,  True,  True])"
            ]
          },
          "metadata": {},
          "execution_count": 21
        }
      ],
      "source": [
        "a > 3"
      ]
    },
    {
      "cell_type": "markdown",
      "metadata": {
        "id": "AK3cX1tMicx1"
      },
      "source": [
        "という配列を使って"
      ]
    },
    {
      "cell_type": "code",
      "execution_count": 22,
      "metadata": {
        "id": "OfGJwUO6icx1",
        "outputId": "0950542e-5a4e-40ba-c32f-7951522fff4d",
        "colab": {
          "base_uri": "https://localhost:8080/"
        }
      },
      "outputs": [
        {
          "output_type": "execute_result",
          "data": {
            "text/plain": [
              "array([4, 5])"
            ]
          },
          "metadata": {},
          "execution_count": 22
        }
      ],
      "source": [
        "a[a > 3]"
      ]
    },
    {
      "cell_type": "markdown",
      "metadata": {
        "id": "hdebJQsRicx2"
      },
      "source": [
        "とすればよい。もう少し複雑な例として、aと同じ長さの配列cを"
      ]
    },
    {
      "cell_type": "code",
      "execution_count": 23,
      "metadata": {
        "id": "P3plcQuBicx2"
      },
      "outputs": [],
      "source": [
        "c = np.array([1, 0, 0, 1, 0])"
      ]
    },
    {
      "cell_type": "markdown",
      "metadata": {
        "id": "NgSkywERicx2"
      },
      "source": [
        "で定義し、cが1のところだけ（つまり0番目と3番目）で<u>aの要素について</u>和をとってみる。そのためには"
      ]
    },
    {
      "cell_type": "code",
      "execution_count": 24,
      "metadata": {
        "id": "9IcnL68Licx2",
        "outputId": "9c24b10e-c819-4a08-e26e-84fa20c6f104",
        "colab": {
          "base_uri": "https://localhost:8080/"
        }
      },
      "outputs": [
        {
          "output_type": "execute_result",
          "data": {
            "text/plain": [
              "5"
            ]
          },
          "metadata": {},
          "execution_count": 24
        }
      ],
      "source": [
        "np.sum(a[c==1])"
      ]
    },
    {
      "cell_type": "markdown",
      "metadata": {
        "id": "EpN0jJvpicx3"
      },
      "source": [
        "などとすればよい。"
      ]
    },
    {
      "cell_type": "markdown",
      "metadata": {
        "id": "Q6PznxZOicx3"
      },
      "source": [
        "# Matplotlib によるプロット"
      ]
    },
    {
      "cell_type": "markdown",
      "metadata": {
        "id": "a54biZXOicx3"
      },
      "source": [
        "グラフを作成するための標準的なモジュールである　matplotlib.pyplot を使ってみる。以下のようにインポートする。"
      ]
    },
    {
      "cell_type": "code",
      "execution_count": 25,
      "metadata": {
        "id": "CGRaiKT_icx3"
      },
      "outputs": [],
      "source": [
        "import matplotlib.pyplot as plt"
      ]
    },
    {
      "cell_type": "markdown",
      "metadata": {
        "id": "VJR0ayBaicx3"
      },
      "source": [
        "plt.plot() の引数にデータを入れるとプロットが表示される。例えば"
      ]
    },
    {
      "cell_type": "code",
      "execution_count": 26,
      "metadata": {
        "id": "0X7DLEVcicx3"
      },
      "outputs": [],
      "source": [
        "x, y = [1, 2, 3], [0, 0, 5]"
      ]
    },
    {
      "cell_type": "code",
      "execution_count": 27,
      "metadata": {
        "id": "9noe9kD5icx4",
        "outputId": "21c9427e-efda-4033-aad7-4862510fdc0c",
        "colab": {
          "base_uri": "https://localhost:8080/",
          "height": 449
        }
      },
      "outputs": [
        {
          "output_type": "display_data",
          "data": {
            "text/plain": [
              "<Figure size 640x480 with 1 Axes>"
            ],
            "image/png": "[encoded data removed]"
          },
          "metadata": {}
        }
      ],
      "source": [
        "plt.xlabel(\"x\") # x軸のラベル\n",
        "plt.ylabel(\"y\") # y軸のラベル\n",
        "plt.plot(x, y);"
      ]
    },
    {
      "cell_type": "markdown",
      "metadata": {
        "id": "nXf9BgOPicx4"
      },
      "source": [
        "このように plt.plot() はデフォルトだと折れ線になる。以下のようにすると点にもできる。"
      ]
    },
    {
      "cell_type": "code",
      "execution_count": 28,
      "metadata": {
        "id": "b8IDfyQDicx4",
        "outputId": "b2c6d222-f201-4d5f-ad74-57e3ae26ba8f",
        "colab": {
          "base_uri": "https://localhost:8080/",
          "height": 449
        }
      },
      "outputs": [
        {
          "output_type": "display_data",
          "data": {
            "text/plain": [
              "<Figure size 640x480 with 1 Axes>"
            ],
            "image/png": "[encoded data removed]"
          },
          "metadata": {}
        }
      ],
      "source": [
        "plt.xlabel(\"x\") # x軸のラベル\n",
        "plt.ylabel(\"y\") # y軸のラベル\n",
        "plt.plot(x, y, \".\");"
      ]
    },
    {
      "cell_type": "markdown",
      "metadata": {
        "id": "KF0Q1h2Kicx4"
      },
      "source": [
        "点以外のシンボル（マーカー marker という）を使う、点の大きさや色を変える、点を透明にする、線で繋ぐ、数字・文字のフォントを変えるなどなど大抵のことはできる。何かやりたい操作があったら検索してみるとよい。[教材](https://utokyo-ipp.github.io/appendix/5-matplotlib.html)にも説明がある。[seaborn](https://seaborn.pydata.org) などのパッケージを使ってグラフの見た目を向上（個人の感想）させることもできる。このリンクのように公式ドキュメントは英語の場合も多いが、検索すれば大体日本語の解説も出てくる。もちろん変なことが書いてある場合もないわけではないが、ちょっと使う分には十分なことも多い。"
      ]
    },
    {
      "cell_type": "markdown",
      "metadata": {
        "id": "96mPu--Licx5"
      },
      "source": [
        "## グラフの例"
      ]
    },
    {
      "cell_type": "markdown",
      "metadata": {
        "id": "XkmAGrVticx5"
      },
      "source": [
        "例として、$y=x^2+1$ のグラフを $-5 < x < 5$ の範囲で描いてみよう。データ点が必要だが、上のように配列を自分で書くのは面倒である。そこでnumpyを用いて"
      ]
    },
    {
      "cell_type": "code",
      "execution_count": 29,
      "metadata": {
        "id": "FhnR2nEqicx5"
      },
      "outputs": [],
      "source": [
        "x = np.linspace(-5, 5, 100)"
      ]
    },
    {
      "cell_type": "markdown",
      "metadata": {
        "id": "YY-N5PrCicx5"
      },
      "source": [
        "としてみよう。こうすると -5 から 5 まで等間隔で 100 要素を持った numpy の配列が作られる。"
      ]
    },
    {
      "cell_type": "code",
      "execution_count": 30,
      "metadata": {
        "scrolled": true,
        "id": "ovzEX7R8icx6",
        "outputId": "87fbe0c0-faa3-4531-83ef-d3d0477d9284",
        "colab": {
          "base_uri": "https://localhost:8080/"
        }
      },
      "outputs": [
        {
          "output_type": "execute_result",
          "data": {
            "text/plain": [
              "array([-5.        , -4.8989899 , -4.7979798 , -4.6969697 , -4.5959596 ,\n",
              "       -4.49494949, -4.39393939, -4.29292929, -4.19191919, -4.09090909,\n",
              "       -3.98989899, -3.88888889, -3.78787879, -3.68686869, -3.58585859,\n",
              "       -3.48484848, -3.38383838, -3.28282828, -3.18181818, -3.08080808,\n",
              "       -2.97979798, -2.87878788, -2.77777778, -2.67676768, -2.57575758,\n",
              "       -2.47474747, -2.37373737, -2.27272727, -2.17171717, -2.07070707,\n",
              "       -1.96969697, -1.86868687, -1.76767677, -1.66666667, -1.56565657,\n",
              "       -1.46464646, -1.36363636, -1.26262626, -1.16161616, -1.06060606,\n",
              "       -0.95959596, -0.85858586, -0.75757576, -0.65656566, -0.55555556,\n",
              "       -0.45454545, -0.35353535, -0.25252525, -0.15151515, -0.05050505,\n",
              "        0.05050505,  0.15151515,  0.25252525,  0.35353535,  0.45454545,\n",
              "        0.55555556,  0.65656566,  0.75757576,  0.85858586,  0.95959596,\n",
              "        1.06060606,  1.16161616,  1.26262626,  1.36363636,  1.46464646,\n",
              "        1.56565657,  1.66666667,  1.76767677,  1.86868687,  1.96969697,\n",
              "        2.07070707,  2.17171717,  2.27272727,  2.37373737,  2.47474747,\n",
              "        2.57575758,  2.67676768,  2.77777778,  2.87878788,  2.97979798,\n",
              "        3.08080808,  3.18181818,  3.28282828,  3.38383838,  3.48484848,\n",
              "        3.58585859,  3.68686869,  3.78787879,  3.88888889,  3.98989899,\n",
              "        4.09090909,  4.19191919,  4.29292929,  4.39393939,  4.49494949,\n",
              "        4.5959596 ,  4.6969697 ,  4.7979798 ,  4.8989899 ,  5.        ])"
            ]
          },
          "metadata": {},
          "execution_count": 30
        }
      ],
      "source": [
        "x"
      ]
    },
    {
      "cell_type": "code",
      "execution_count": 31,
      "metadata": {
        "id": "mDlLD-g9icx6",
        "outputId": "eba55239-0818-403e-a49b-f2a35a89dd8a",
        "colab": {
          "base_uri": "https://localhost:8080/"
        }
      },
      "outputs": [
        {
          "output_type": "execute_result",
          "data": {
            "text/plain": [
              "100"
            ]
          },
          "metadata": {},
          "execution_count": 31
        }
      ],
      "source": [
        "len(x)"
      ]
    },
    {
      "cell_type": "markdown",
      "metadata": {
        "id": "PPQ5Zjc0icx6"
      },
      "source": [
        "この配列を使うと以下のようにグラフがすぐ書ける。"
      ]
    },
    {
      "cell_type": "code",
      "execution_count": 32,
      "metadata": {
        "id": "Xg9mC9-qicx6"
      },
      "outputs": [],
      "source": [
        "y = 2 * x**2 + 1 # 2x^2 + 1"
      ]
    },
    {
      "cell_type": "code",
      "execution_count": 33,
      "metadata": {
        "id": "Ac0y3W-jicx7",
        "outputId": "6b0bccb1-69f7-434c-b05a-aacc3c4240de",
        "colab": {
          "base_uri": "https://localhost:8080/",
          "height": 449
        }
      },
      "outputs": [
        {
          "output_type": "display_data",
          "data": {
            "text/plain": [
              "<Figure size 640x480 with 1 Axes>"
            ],
            "image/png": "[encoded data removed]"
          },
          "metadata": {}
        }
      ],
      "source": [
        "plt.xlim(-5, 5) # xの範囲を-5から5に制限した\n",
        "plt.xlabel(\"x\") # x軸のラベル\n",
        "plt.ylabel(\"y\") # y軸のラベル\n",
        "plt.plot(x, y);"
      ]
    }
  ],
  "metadata": {
    "colab": {
      "provenance": []
    },
    "kernelspec": {
      "display_name": "Python 3.11",
      "language": "python",
      "name": "python3"
    },
    "language_info": {
      "codemirror_mode": {
        "name": "ipython",
        "version": 3
      },
      "file_extension": ".py",
      "mimetype": "text/x-python",
      "name": "python",
      "nbconvert_exporter": "python",
      "pygments_lexer": "ipython3",
      "version": "3.11.3"
    }
  },
  "nbformat": 4,
  "nbformat_minor": 0
}